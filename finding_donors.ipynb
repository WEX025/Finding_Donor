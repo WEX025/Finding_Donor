{
 "cells": [
  {
   "cell_type": "markdown",
   "metadata": {},
   "source": [
    "# Machine Learning Engineer Nanodegree\n",
    "## Supervised Learning\n",
    "## Project: Finding Donors for *CharityML*"
   ]
  },
  {
   "cell_type": "markdown",
   "metadata": {},
   "source": [
    "Welcome to the second project of the Machine Learning Engineer Nanodegree! In this notebook, some template code has already been provided for you, and it will be your job to implement the additional functionality necessary to successfully complete this project. Sections that begin with **'Implementation'** in the header indicate that the following block of code will require additional functionality which you must provide. Instructions will be provided for each section and the specifics of the implementation are marked in the code block with a `'TODO'` statement. Please be sure to read the instructions carefully!\n",
    "\n",
    "In addition to implementing code, there will be questions that you must answer which relate to the project and your implementation. Each section where you will answer a question is preceded by a **'Question X'** header. Carefully read each question and provide thorough answers in the following text boxes that begin with **'Answer:'**. Your project submission will be evaluated based on your answers to each of the questions and the implementation you provide.  \n",
    "\n",
    ">**Note:** Please specify WHICH VERSION OF PYTHON you are using when submitting this notebook. Code and Markdown cells can be executed using the **Shift + Enter** keyboard shortcut. In addition, Markdown cells can be edited by typically double-clicking the cell to enter edit mode."
   ]
  },
  {
   "cell_type": "markdown",
   "metadata": {},
   "source": [
    "## Getting Started\n",
    "\n",
    "In this project, you will employ several supervised algorithms of your choice to accurately model individuals' income using data collected from the 1994 U.S. Census. You will then choose the best candidate algorithm from preliminary results and further optimize this algorithm to best model the data. Your goal with this implementation is to construct a model that accurately predicts whether an individual makes more than $50,000. This sort of task can arise in a non-profit setting, where organizations survive on donations.  Understanding an individual's income can help a non-profit better understand how large of a donation to request, or whether or not they should reach out to begin with.  While it can be difficult to determine an individual's general income bracket directly from public sources, we can (as we will see) infer this value from other publically available features. \n",
    "\n",
    "The dataset for this project originates from the [UCI Machine Learning Repository](https://archive.ics.uci.edu/ml/datasets/Census+Income). The datset was donated by Ron Kohavi and Barry Becker, after being published in the article _\"Scaling Up the Accuracy of Naive-Bayes Classifiers: A Decision-Tree Hybrid\"_. You can find the article by Ron Kohavi [online](https://www.aaai.org/Papers/KDD/1996/KDD96-033.pdf). The data we investigate here consists of small changes to the original dataset, such as removing the `'fnlwgt'` feature and records with missing or ill-formatted entries."
   ]
  },
  {
   "cell_type": "markdown",
   "metadata": {},
   "source": [
    "----\n",
    "## Exploring the Data\n",
    "Run the code cell below to load necessary Python libraries and load the census data. Note that the last column from this dataset, `'income'`, will be our target label (whether an individual makes more than, or at most, $50,000 annually). All other columns are features about each individual in the census database."
   ]
  },
  {
   "cell_type": "code",
   "execution_count": 28,
   "metadata": {
    "collapsed": false
   },
   "outputs": [
    {
     "data": {
      "text/html": [
       "<div>\n",
       "<table border=\"1\" class=\"dataframe\">\n",
       "  <thead>\n",
       "    <tr style=\"text-align: right;\">\n",
       "      <th></th>\n",
       "      <th>age</th>\n",
       "      <th>workclass</th>\n",
       "      <th>education_level</th>\n",
       "      <th>education-num</th>\n",
       "      <th>marital-status</th>\n",
       "      <th>occupation</th>\n",
       "      <th>relationship</th>\n",
       "      <th>race</th>\n",
       "      <th>sex</th>\n",
       "      <th>capital-gain</th>\n",
       "      <th>capital-loss</th>\n",
       "      <th>hours-per-week</th>\n",
       "      <th>native-country</th>\n",
       "      <th>income</th>\n",
       "    </tr>\n",
       "  </thead>\n",
       "  <tbody>\n",
       "    <tr>\n",
       "      <th>0</th>\n",
       "      <td>39</td>\n",
       "      <td>State-gov</td>\n",
       "      <td>Bachelors</td>\n",
       "      <td>13.0</td>\n",
       "      <td>Never-married</td>\n",
       "      <td>Adm-clerical</td>\n",
       "      <td>Not-in-family</td>\n",
       "      <td>White</td>\n",
       "      <td>Male</td>\n",
       "      <td>2174.0</td>\n",
       "      <td>0.0</td>\n",
       "      <td>40.0</td>\n",
       "      <td>United-States</td>\n",
       "      <td>&lt;=50K</td>\n",
       "    </tr>\n",
       "  </tbody>\n",
       "</table>\n",
       "</div>"
      ],
      "text/plain": [
       "   age   workclass education_level  education-num  marital-status  \\\n",
       "0   39   State-gov       Bachelors           13.0   Never-married   \n",
       "\n",
       "      occupation    relationship    race    sex  capital-gain  capital-loss  \\\n",
       "0   Adm-clerical   Not-in-family   White   Male        2174.0           0.0   \n",
       "\n",
       "   hours-per-week  native-country income  \n",
       "0            40.0   United-States  <=50K  "
      ]
     },
     "metadata": {},
     "output_type": "display_data"
    },
    {
     "name": "stdout",
     "output_type": "stream",
     "text": [
      "Dataset statistics:\n"
     ]
    },
    {
     "data": {
      "text/html": [
       "<div>\n",
       "<table border=\"1\" class=\"dataframe\">\n",
       "  <thead>\n",
       "    <tr style=\"text-align: right;\">\n",
       "      <th></th>\n",
       "      <th>age</th>\n",
       "      <th>education-num</th>\n",
       "      <th>capital-gain</th>\n",
       "      <th>capital-loss</th>\n",
       "      <th>hours-per-week</th>\n",
       "    </tr>\n",
       "  </thead>\n",
       "  <tbody>\n",
       "    <tr>\n",
       "      <th>count</th>\n",
       "      <td>45222.000000</td>\n",
       "      <td>45222.000000</td>\n",
       "      <td>45222.000000</td>\n",
       "      <td>45222.000000</td>\n",
       "      <td>45222.000000</td>\n",
       "    </tr>\n",
       "    <tr>\n",
       "      <th>mean</th>\n",
       "      <td>38.547941</td>\n",
       "      <td>10.118460</td>\n",
       "      <td>1101.430344</td>\n",
       "      <td>88.595418</td>\n",
       "      <td>40.938017</td>\n",
       "    </tr>\n",
       "    <tr>\n",
       "      <th>std</th>\n",
       "      <td>13.217870</td>\n",
       "      <td>2.552881</td>\n",
       "      <td>7506.430084</td>\n",
       "      <td>404.956092</td>\n",
       "      <td>12.007508</td>\n",
       "    </tr>\n",
       "    <tr>\n",
       "      <th>min</th>\n",
       "      <td>17.000000</td>\n",
       "      <td>1.000000</td>\n",
       "      <td>0.000000</td>\n",
       "      <td>0.000000</td>\n",
       "      <td>1.000000</td>\n",
       "    </tr>\n",
       "    <tr>\n",
       "      <th>25%</th>\n",
       "      <td>28.000000</td>\n",
       "      <td>9.000000</td>\n",
       "      <td>0.000000</td>\n",
       "      <td>0.000000</td>\n",
       "      <td>40.000000</td>\n",
       "    </tr>\n",
       "    <tr>\n",
       "      <th>50%</th>\n",
       "      <td>37.000000</td>\n",
       "      <td>10.000000</td>\n",
       "      <td>0.000000</td>\n",
       "      <td>0.000000</td>\n",
       "      <td>40.000000</td>\n",
       "    </tr>\n",
       "    <tr>\n",
       "      <th>75%</th>\n",
       "      <td>47.000000</td>\n",
       "      <td>13.000000</td>\n",
       "      <td>0.000000</td>\n",
       "      <td>0.000000</td>\n",
       "      <td>45.000000</td>\n",
       "    </tr>\n",
       "    <tr>\n",
       "      <th>max</th>\n",
       "      <td>90.000000</td>\n",
       "      <td>16.000000</td>\n",
       "      <td>99999.000000</td>\n",
       "      <td>4356.000000</td>\n",
       "      <td>99.000000</td>\n",
       "    </tr>\n",
       "  </tbody>\n",
       "</table>\n",
       "</div>"
      ],
      "text/plain": [
       "                age  education-num  capital-gain  capital-loss  hours-per-week\n",
       "count  45222.000000   45222.000000  45222.000000  45222.000000    45222.000000\n",
       "mean      38.547941      10.118460   1101.430344     88.595418       40.938017\n",
       "std       13.217870       2.552881   7506.430084    404.956092       12.007508\n",
       "min       17.000000       1.000000      0.000000      0.000000        1.000000\n",
       "25%       28.000000       9.000000      0.000000      0.000000       40.000000\n",
       "50%       37.000000      10.000000      0.000000      0.000000       40.000000\n",
       "75%       47.000000      13.000000      0.000000      0.000000       45.000000\n",
       "max       90.000000      16.000000  99999.000000   4356.000000       99.000000"
      ]
     },
     "execution_count": 28,
     "metadata": {},
     "output_type": "execute_result"
    }
   ],
   "source": [
    "# Import libraries necessary for this project\n",
    "import numpy as np\n",
    "import pandas as pd\n",
    "from time import time\n",
    "from IPython.display import display # Allows the use of display() for DataFrames\n",
    "\n",
    "# Import supplementary visualization code visuals.py\n",
    "import visuals as vs\n",
    "\n",
    "# Pretty display for notebooks\n",
    "%matplotlib inline\n",
    "\n",
    "# Load the Census dataset\n",
    "data = pd.read_csv(\"census.csv\")\n",
    "\n",
    "# Success - Display the first record\n",
    "display(data.head(n=1))\n",
    "\n",
    "# Show statistics of dataset\n",
    "print 'Dataset statistics:'\n",
    "data.describe()"
   ]
  },
  {
   "cell_type": "markdown",
   "metadata": {},
   "source": [
    "Visualization of dataset statistics"
   ]
  },
  {
   "cell_type": "code",
   "execution_count": 29,
   "metadata": {
    "collapsed": false
   },
   "outputs": [
    {
     "name": "stdout",
     "output_type": "stream",
     "text": [
      "Standard deviation of [ age ] : 13.217724074\n",
      "Mean of [ age ] : 38.5479412675 (indicated with red line)\n"
     ]
    },
    {
     "data": {
      "image/png": "[encoded data removed]",
      "text/plain": [
       "<matplotlib.figure.Figure at 0x11a742e8>"
      ]
     },
     "metadata": {},
     "output_type": "display_data"
    },
    {
     "name": "stdout",
     "output_type": "stream",
     "text": [
      "Standard deviation of [ education-num ] : 2.55285296882\n",
      "Mean of [ education-num ] : 10.1184600416 (indicated with red line)\n"
     ]
    },
    {
     "data": {
      "image/png": "[encoded data removed]",
      "text/plain": [
       "<matplotlib.figure.Figure at 0x11947898>"
      ]
     },
     "metadata": {},
     "output_type": "display_data"
    },
    {
     "name": "stdout",
     "output_type": "stream",
     "text": [
      "Standard deviation of [ capital-gain ] : 7506.34708795\n",
      "Mean of [ capital-gain ] : 1101.43034364 (indicated with red line)\n"
     ]
    },
    {
     "data": {
      "image/png": "[encoded data removed]",
      "text/plain": [
       "<matplotlib.figure.Figure at 0x11e7beb8>"
      ]
     },
     "metadata": {},
     "output_type": "display_data"
    },
    {
     "name": "stdout",
     "output_type": "stream",
     "text": [
      "Standard deviation of [ capital-loss ] : 404.951614611\n",
      "Mean of [ capital-loss ] : 88.5954181593 (indicated with red line)\n"
     ]
    },
    {
     "data": {
      "image/png": "[encoded data removed]",
      "text/plain": [
       "<matplotlib.figure.Figure at 0xe825908>"
      ]
     },
     "metadata": {},
     "output_type": "display_data"
    },
    {
     "name": "stdout",
     "output_type": "stream",
     "text": [
      "Standard deviation of [ hours-per-week ] : 12.0073754675\n",
      "Mean of [ hours-per-week ] : 40.9380168944 (indicated with red line)\n"
     ]
    },
    {
     "data": {
      "image/png": "[encoded data removed]",
      "text/plain": [
       "<matplotlib.figure.Figure at 0x10f1c9b0>"
      ]
     },
     "metadata": {},
     "output_type": "display_data"
    }
   ],
   "source": [
    "import matplotlib.pyplot as plt\n",
    "import seaborn as sns\n",
    "\n",
    "numeric = ['age', 'education-num', 'capital-gain','capital-loss','hours-per-week']\n",
    "\n",
    "for i in numeric:\n",
    "    fig = sns.violinplot(x=i, y=\"income\", data=data,\n",
    "               bw=.1, scale=\"count\", scale_hue=False);\n",
    "    plt.axvline(np.mean(data[i]), c = 'r', lw = 1)\n",
    "    print \"Standard deviation of [\", i, \"] :\", np.std(data[i])\n",
    "    print \"Mean of [\",i,\"] :\",np.mean(data[i]),\"(indicated with red line)\"\n",
    "    plt.show()"
   ]
  },
  {
   "cell_type": "markdown",
   "metadata": {},
   "source": [
    "We can observe that 'capital-gain' and 'capital-loss' has the significantly larger standard derivation."
   ]
  },
  {
   "cell_type": "markdown",
   "metadata": {},
   "source": [
    "### Implementation: Data Exploration\n",
    "A cursory investigation of the dataset will determine how many individuals fit into either group, and will tell us about the percentage of these individuals making more than \\$50,000. In the code cell below, you will need to compute the following:\n",
    "- The total number of records, `'n_records'`\n",
    "- The number of individuals making more than \\$50,000 annually, `'n_greater_50k'`.\n",
    "- The number of individuals making at most \\$50,000 annually, `'n_at_most_50k'`.\n",
    "- The percentage of individuals making more than \\$50,000 annually, `'greater_percent'`.\n",
    "\n",
    "**Hint:** You may need to look at the table above to understand how the `'income'` entries are formatted. "
   ]
  },
  {
   "cell_type": "code",
   "execution_count": 30,
   "metadata": {
    "collapsed": false
   },
   "outputs": [
    {
     "name": "stdout",
     "output_type": "stream",
     "text": [
      "Total number of records: 45222\n",
      "Individuals making more than $50,000: 11208\n",
      "Individuals making at most $50,000: 34014\n",
      "Percentage of individuals making more than $50,000: 24.78%\n"
     ]
    }
   ],
   "source": [
    "# TODO: Total number of records\n",
    "n_records = len(data.index)\n",
    "\n",
    "# TODO: Number of records where individual's income is more than $50,000\n",
    "from collections import deque\n",
    "n_greater_50k = deque(data.income == '>50K').count(True)\n",
    "\n",
    "# TODO: Number of records where individual's income is at most $50,000\n",
    "n_at_most_50k = deque(data.income == '<=50K').count(True)\n",
    "\n",
    "# TODO: Percentage of individuals whose income is more than $50,000\n",
    "greater_percent = 100*float(n_greater_50k)/n_records\n",
    "\n",
    "# Print the results\n",
    "print \"Total number of records: {}\".format(n_records)\n",
    "print \"Individuals making more than $50,000: {}\".format(n_greater_50k)\n",
    "print \"Individuals making at most $50,000: {}\".format(n_at_most_50k)\n",
    "print \"Percentage of individuals making more than $50,000: {:.2f}%\".format(greater_percent)"
   ]
  },
  {
   "cell_type": "markdown",
   "metadata": {},
   "source": [
    "[Class Imbalance]\n",
    "\n",
    "The class imbalance happens when the total number of a class of data (positive) is far less than the total number of another class of data (negative). In our case, income \">50K\" (=11208) is far less than \"<=50K\", which may cause the problem.\n",
    "\n",
    "Reference:\n",
    "http://www.chioka.in/class-imbalance-problem/"
   ]
  },
  {
   "cell_type": "markdown",
   "metadata": {},
   "source": [
    "----\n",
    "## Preparing the Data\n",
    "Before data can be used as input for machine learning algorithms, it often must be cleaned, formatted, and restructured — this is typically known as **preprocessing**. Fortunately, for this dataset, there are no invalid or missing entries we must deal with, however, there are some qualities about certain features that must be adjusted. This preprocessing can help tremendously with the outcome and predictive power of nearly all learning algorithms."
   ]
  },
  {
   "cell_type": "markdown",
   "metadata": {},
   "source": [
    "### Transforming Skewed Continuous Features\n",
    "A dataset may sometimes contain at least one feature whose values tend to lie near a single number, but will also have a non-trivial number of vastly larger or smaller values than that single number.  Algorithms can be sensitive to such distributions of values and can underperform if the range is not properly normalized. With the census dataset two features fit this description: '`capital-gain'` and `'capital-loss'`. \n",
    "\n",
    "Run the code cell below to plot a histogram of these two features. Note the range of the values present and how they are distributed."
   ]
  },
  {
   "cell_type": "code",
   "execution_count": 31,
   "metadata": {
    "collapsed": false
   },
   "outputs": [
    {
     "data": {
      "image/png": "[encoded data removed]",
      "text/plain": [
       "<matplotlib.figure.Figure at 0x10fd0b00>"
      ]
     },
     "metadata": {},
     "output_type": "display_data"
    }
   ],
   "source": [
    "# Split the data into features and target label\n",
    "income_raw = data['income']\n",
    "features_raw = data.drop('income', axis = 1)\n",
    "\n",
    "# Visualize skewed continuous features of original data\n",
    "vs.distribution(data)"
   ]
  },
  {
   "cell_type": "markdown",
   "metadata": {},
   "source": [
    "For highly-skewed feature distributions such as `'capital-gain'` and `'capital-loss'`, it is common practice to apply a <a href=\"https://en.wikipedia.org/wiki/Data_transformation_(statistics)\">logarithmic transformation</a> on the data so that the very large and very small values do not negatively affect the performance of a learning algorithm. Using a logarithmic transformation significantly reduces the range of values caused by outliers. Care must be taken when applying this transformation however: The logarithm of `0` is undefined, so we must translate the values by a small amount above `0` to apply the the logarithm successfully.\n",
    "\n",
    "Run the code cell below to perform a transformation on the data and visualize the results. Again, note the range of values and how they are distributed. "
   ]
  },
  {
   "cell_type": "code",
   "execution_count": 32,
   "metadata": {
    "collapsed": false
   },
   "outputs": [
    {
     "data": {
      "image/png": "[encoded data removed]",
      "text/plain": [
       "<matplotlib.figure.Figure at 0x12343ba8>"
      ]
     },
     "metadata": {},
     "output_type": "display_data"
    }
   ],
   "source": [
    "# Log-transform the skewed features\n",
    "skewed = ['capital-gain', 'capital-loss']\n",
    "features_raw[skewed] = data[skewed].apply(lambda x: np.log(x + 1))\n",
    "\n",
    "# Visualize the new log distributions\n",
    "vs.distribution(features_raw, transformed = True)"
   ]
  },
  {
   "cell_type": "markdown",
   "metadata": {},
   "source": [
    "### Normalizing Numerical Features\n",
    "In addition to performing transformations on features that are highly skewed, it is often good practice to perform some type of scaling on numerical features. Applying a scaling to the data does not change the shape of each feature's distribution (such as `'capital-gain'` or `'capital-loss'` above); however, normalization ensures that each feature is treated equally when applying supervised learners. Note that once scaling is applied, observing the data in its raw form will no longer have the same original meaning, as exampled below.\n",
    "\n",
    "Run the code cell below to normalize each numerical feature. We will use [`sklearn.preprocessing.MinMaxScaler`](http://scikit-learn.org/stable/modules/generated/sklearn.preprocessing.MinMaxScaler.html) for this."
   ]
  },
  {
   "cell_type": "code",
   "execution_count": 39,
   "metadata": {
    "collapsed": false
   },
   "outputs": [
    {
     "data": {
      "text/html": [
       "<div>\n",
       "<table border=\"1\" class=\"dataframe\">\n",
       "  <thead>\n",
       "    <tr style=\"text-align: right;\">\n",
       "      <th></th>\n",
       "      <th>age</th>\n",
       "      <th>workclass</th>\n",
       "      <th>education_level</th>\n",
       "      <th>education-num</th>\n",
       "      <th>marital-status</th>\n",
       "      <th>occupation</th>\n",
       "      <th>relationship</th>\n",
       "      <th>race</th>\n",
       "      <th>sex</th>\n",
       "      <th>capital-gain</th>\n",
       "      <th>capital-loss</th>\n",
       "      <th>hours-per-week</th>\n",
       "      <th>native-country</th>\n",
       "    </tr>\n",
       "  </thead>\n",
       "  <tbody>\n",
       "    <tr>\n",
       "      <th>0</th>\n",
       "      <td>0.30137</td>\n",
       "      <td>State-gov</td>\n",
       "      <td>Bachelors</td>\n",
       "      <td>0.8</td>\n",
       "      <td>Never-married</td>\n",
       "      <td>Adm-clerical</td>\n",
       "      <td>Not-in-family</td>\n",
       "      <td>White</td>\n",
       "      <td>Male</td>\n",
       "      <td>0.02174</td>\n",
       "      <td>0.0</td>\n",
       "      <td>0.397959</td>\n",
       "      <td>United-States</td>\n",
       "    </tr>\n",
       "  </tbody>\n",
       "</table>\n",
       "</div>"
      ],
      "text/plain": [
       "       age   workclass education_level  education-num  marital-status  \\\n",
       "0  0.30137   State-gov       Bachelors            0.8   Never-married   \n",
       "\n",
       "      occupation    relationship    race    sex  capital-gain  capital-loss  \\\n",
       "0   Adm-clerical   Not-in-family   White   Male       0.02174           0.0   \n",
       "\n",
       "   hours-per-week  native-country  \n",
       "0        0.397959   United-States  "
      ]
     },
     "metadata": {},
     "output_type": "display_data"
    }
   ],
   "source": [
    "# Import sklearn.preprocessing.StandardScaler\n",
    "from sklearn.preprocessing import MinMaxScaler\n",
    "\n",
    "# Initialize a scaler, then apply it to the features\n",
    "scaler = MinMaxScaler()\n",
    "numerical = ['age', 'education-num', 'capital-gain', 'capital-loss', 'hours-per-week']\n",
    "features_raw[numerical] = scaler.fit_transform(data[numerical])\n",
    "\n",
    "# Show an example of a record with scaling applied\n",
    "display(features_raw.head(n = 1))"
   ]
  },
  {
   "cell_type": "markdown",
   "metadata": {},
   "source": [
    "### Implementation: Data Preprocessing\n",
    "\n",
    "From the table in **Exploring the Data** above, we can see there are several features for each record that are non-numeric. Typically, learning algorithms expect input to be numeric, which requires that non-numeric features (called *categorical variables*) be converted. One popular way to convert categorical variables is by using the **one-hot encoding** scheme. One-hot encoding creates a _\"dummy\"_ variable for each possible category of each non-numeric feature. For example, assume `someFeature` has three possible entries: `A`, `B`, or `C`. We then encode this feature into `someFeature_A`, `someFeature_B` and `someFeature_C`.\n",
    "\n",
    "|   | someFeature |                    | someFeature_A | someFeature_B | someFeature_C |\n",
    "| :-: | :-: |                            | :-: | :-: | :-: |\n",
    "| 0 |  B  |  | 0 | 1 | 0 |\n",
    "| 1 |  C  | ----> one-hot encode ----> | 0 | 0 | 1 |\n",
    "| 2 |  A  |  | 1 | 0 | 0 |\n",
    "\n",
    "Additionally, as with the non-numeric features, we need to convert the non-numeric target label, `'income'` to numerical values for the learning algorithm to work. Since there are only two possible categories for this label (\"<=50K\" and \">50K\"), we can avoid using one-hot encoding and simply encode these two categories as `0` and `1`, respectively. In code cell below, you will need to implement the following:\n",
    " - Use [`pandas.get_dummies()`](http://pandas.pydata.org/pandas-docs/stable/generated/pandas.get_dummies.html?highlight=get_dummies#pandas.get_dummies) to perform one-hot encoding on the `'features_raw'` data.\n",
    " - Convert the target label `'income_raw'` to numerical entries.\n",
    "   - Set records with \"<=50K\" to `0` and records with \">50K\" to `1`."
   ]
  },
  {
   "cell_type": "code",
   "execution_count": 40,
   "metadata": {
    "collapsed": false,
    "scrolled": true
   },
   "outputs": [
    {
     "name": "stdout",
     "output_type": "stream",
     "text": [
      "103 total features after one-hot encoding.\n"
     ]
    }
   ],
   "source": [
    "# TODO: One-hot encode the 'features_raw' data using pandas.get_dummies()\n",
    "non_numeric = ['workclass', 'education_level', 'marital-status', 'occupation', 'relationship', 'race', 'sex', 'native-country']\n",
    "features = pd.get_dummies(data=features_raw, columns=non_numeric)\n",
    "\n",
    "# TODO: Encode the 'income_raw' data to numerical values\n",
    "income = map(lambda x: 0 if x == '<=50K' else 1, data.income)\n",
    "#print income\n",
    "\n",
    "# Print the number of features after one-hot encoding\n",
    "encoded = list(features.columns)\n",
    "print \"{} total features after one-hot encoding.\".format(len(encoded))\n",
    "\n",
    "# Uncomment the following line to see the encoded feature names\n",
    "#print encoded"
   ]
  },
  {
   "cell_type": "markdown",
   "metadata": {},
   "source": [
    "### Shuffle and Split Data\n",
    "Now all _categorical variables_ have been converted into numerical features, and all numerical features have been normalized. As always, we will now split the data (both features and their labels) into training and test sets. 80% of the data will be used for training and 20% for testing.\n",
    "\n",
    "Run the code cell below to perform this split."
   ]
  },
  {
   "cell_type": "code",
   "execution_count": 42,
   "metadata": {
    "collapsed": false
   },
   "outputs": [
    {
     "name": "stdout",
     "output_type": "stream",
     "text": [
      "Training set has 36177 samples.\n",
      "Testing set has 9045 samples.\n"
     ]
    }
   ],
   "source": [
    "# Import train_test_split\n",
    "from sklearn.cross_validation import train_test_split\n",
    "\n",
    "# To ignore DeprecationWarning\n",
    "import warnings\n",
    "warnings.filterwarnings(\"ignore\", category=DeprecationWarning) \n",
    "\n",
    "# Split the 'features' and 'income' data into training and testing sets\n",
    "X_train, X_test, y_train, y_test = train_test_split(features, income, stratify = income, test_size = 0.2, random_state = 0)\n",
    "\n",
    "# Show the results of the split\n",
    "print \"Training set has {} samples.\".format(X_train.shape[0])\n",
    "print \"Testing set has {} samples.\".format(X_test.shape[0])"
   ]
  },
  {
   "cell_type": "markdown",
   "metadata": {},
   "source": [
    "----\n",
    "## Evaluating Model Performance\n",
    "In this section, we will investigate four different algorithms, and determine which is best at modeling the data. Three of these algorithms will be supervised learners of your choice, and the fourth algorithm is known as a *naive predictor*."
   ]
  },
  {
   "cell_type": "markdown",
   "metadata": {},
   "source": [
    "### Metrics and the Naive Predictor\n",
    "*CharityML*, equipped with their research, knows individuals that make more than \\$50,000 are most likely to donate to their charity. Because of this, *CharityML* is particularly interested in predicting who makes more than \\$50,000 accurately. It would seem that using **accuracy** as a metric for evaluating a particular model's performace would be appropriate. Additionally, identifying someone that *does not* make more than \\$50,000 as someone who does would be detrimental to *CharityML*, since they are looking to find individuals willing to donate. Therefore, a model's ability to precisely predict those that make more than \\$50,000 is *more important* than the model's ability to **recall** those individuals. We can use **F-beta score** as a metric that considers both precision and recall:\n",
    "\n",
    "$$ F_{\\beta} = (1 + \\beta^2) \\cdot \\frac{precision \\cdot recall}{\\left( \\beta^2 \\cdot precision \\right) + recall} $$\n",
    "\n",
    "In particular, when $\\beta = 0.5$, more emphasis is placed on precision. This is called the **F$_{0.5}$ score** (or F-score for simplicity).\n",
    "\n",
    "Looking at the distribution of classes (those who make at most \\$50,000, and those who make more), it's clear most individuals do not make more than \\$50,000. This can greatly affect **accuracy**, since we could simply say *\"this person does not make more than \\$50,000\"* and generally be right, without ever looking at the data! Making such a statement would be called **naive**, since we have not considered any information to substantiate the claim. It is always important to consider the *naive prediction* for your data, to help establish a benchmark for whether a model is performing well. That been said, using that prediction would be pointless: If we predicted all people made less than \\$50,000, *CharityML* would identify no one as donors. "
   ]
  },
  {
   "cell_type": "markdown",
   "metadata": {},
   "source": [
    "### Question 1 - Naive Predictor Performace\n",
    "*If we chose a model that always predicted an individual made more than \\$50,000, what would that model's accuracy and F-score be on this dataset?*  \n",
    "**Note:** You must use the code cell below and assign your results to `'accuracy'` and `'fscore'` to be used later."
   ]
  },
  {
   "cell_type": "code",
   "execution_count": 43,
   "metadata": {
    "collapsed": false
   },
   "outputs": [
    {
     "name": "stdout",
     "output_type": "stream",
     "text": [
      "Naive Predictor: [Accuracy score: 0.2478, F-score: 0.2917]\n"
     ]
    }
   ],
   "source": [
    "# TODO: Calculate accuracy\n",
    "accuracy = float(n_greater_50k)/n_records\n",
    "\n",
    "# TODO: Calculate F-score using the formula above for beta = 0.5\n",
    "recall = 1.0\n",
    "beta_2 = 0.5*0.5\n",
    "fscore = (1.0+beta_2)*(accuracy*recall)/((accuracy*beta_2)+recall)   # accuracy = precision\n",
    "\n",
    "# Print the results \n",
    "print \"Naive Predictor: [Accuracy score: {:.4f}, F-score: {:.4f}]\".format(accuracy, fscore)"
   ]
  },
  {
   "cell_type": "markdown",
   "metadata": {},
   "source": [
    "###  Supervised Learning Models\n",
    "**The following supervised learning models are currently available in** [`scikit-learn`](http://scikit-learn.org/stable/supervised_learning.html) **that you may choose from:**\n",
    "- Gaussian Naive Bayes (GaussianNB)\n",
    "- Decision Trees\n",
    "- Ensemble Methods (Bagging, AdaBoost, Random Forest, Gradient Boosting)\n",
    "- K-Nearest Neighbors (KNeighbors)\n",
    "- Stochastic Gradient Descent Classifier (SGDC)\n",
    "- Support Vector Machines (SVM)\n",
    "- Logistic Regression"
   ]
  },
  {
   "cell_type": "markdown",
   "metadata": {},
   "source": [
    "### Question 2 - Model Application\n",
    "List three of the supervised learning models above that are appropriate for this problem that you will test on the census data. For each model chosen\n",
    "- *Describe one real-world application in industry where the model can be applied.* (You may need to do research for this — give references!)\n",
    "- *What are the strengths of the model; when does it perform well?*\n",
    "- *What are the weaknesses of the model; when does it perform poorly?*\n",
    "- *What makes this model a good candidate for the problem, given what you know about the data?*"
   ]
  },
  {
   "cell_type": "markdown",
   "metadata": {},
   "source": [
    "**Answer: **\n",
    "\n",
    "I would like to compare all these algorithms first (as shown bellow), and then to decide which three of them would be better. Moreover, the first answer of https://www.quora.com/What-are-the-advantages-of-different-classification-algorithms (Quora) inspired me which aspect of these algorithms I should compare."
   ]
  },
  {
   "cell_type": "code",
   "execution_count": 44,
   "metadata": {
    "collapsed": false,
    "scrolled": false
   },
   "outputs": [
    {
     "data": {
      "text/html": [
       "<div>\n",
       "<table border=\"1\" class=\"dataframe\">\n",
       "  <thead>\n",
       "    <tr style=\"text-align: right;\">\n",
       "      <th></th>\n",
       "      <th>Algorithm</th>\n",
       "      <th>Results interpretable?</th>\n",
       "      <th>Algorithm complexity</th>\n",
       "      <th>Average predictive accuracy</th>\n",
       "      <th>Training speed</th>\n",
       "      <th>Prediction speed</th>\n",
       "      <th>Amount of parameter tuning needed (excluding feature selection)</th>\n",
       "      <th>Performs well with small number of observations?</th>\n",
       "      <th>Handles lots of irrelevant features well (separates signal from noise)?</th>\n",
       "      <th>Automatically learns feature interactions?</th>\n",
       "      <th>Gives calibrated probabilities of class membership?</th>\n",
       "      <th>Parametric?</th>\n",
       "      <th>Features might need scaling?</th>\n",
       "      <th>Application</th>\n",
       "      <th>Reference</th>\n",
       "    </tr>\n",
       "  </thead>\n",
       "  <tbody>\n",
       "    <tr>\n",
       "      <th>0</th>\n",
       "      <td>GaussianNB</td>\n",
       "      <td>Somewhat</td>\n",
       "      <td>Medium</td>\n",
       "      <td>Lower</td>\n",
       "      <td>Fast</td>\n",
       "      <td>Fast</td>\n",
       "      <td>Some for feature extraction</td>\n",
       "      <td>Yes</td>\n",
       "      <td>Yes</td>\n",
       "      <td>No</td>\n",
       "      <td>No</td>\n",
       "      <td>Yes</td>\n",
       "      <td>No</td>\n",
       "      <td>Explore the brain activities</td>\n",
       "      <td>[0]</td>\n",
       "    </tr>\n",
       "    <tr>\n",
       "      <th>1</th>\n",
       "      <td>Decision trees</td>\n",
       "      <td>Somewhat</td>\n",
       "      <td>Medium</td>\n",
       "      <td>Lower</td>\n",
       "      <td>Fast</td>\n",
       "      <td>Fast</td>\n",
       "      <td>Some</td>\n",
       "      <td>No</td>\n",
       "      <td>No</td>\n",
       "      <td>Yes</td>\n",
       "      <td>Possibly</td>\n",
       "      <td>No</td>\n",
       "      <td>No</td>\n",
       "      <td>Dynamic security assessment</td>\n",
       "      <td>[1]</td>\n",
       "    </tr>\n",
       "    <tr>\n",
       "      <th>2</th>\n",
       "      <td>Random Forests</td>\n",
       "      <td>A little</td>\n",
       "      <td>Difficult</td>\n",
       "      <td>Higher</td>\n",
       "      <td>Slow</td>\n",
       "      <td>Moderate</td>\n",
       "      <td>Some</td>\n",
       "      <td>No</td>\n",
       "      <td>Yes (unless noise ratio is very high)</td>\n",
       "      <td>Yes</td>\n",
       "      <td>Possibly</td>\n",
       "      <td>No</td>\n",
       "      <td>No</td>\n",
       "      <td>Selection of premium-quality vegetable oils</td>\n",
       "      <td>[2]</td>\n",
       "    </tr>\n",
       "    <tr>\n",
       "      <th>3</th>\n",
       "      <td>KNN</td>\n",
       "      <td>Yes</td>\n",
       "      <td>Easy</td>\n",
       "      <td>Lower</td>\n",
       "      <td>Fast</td>\n",
       "      <td>Depends on n</td>\n",
       "      <td>Minimal</td>\n",
       "      <td>No</td>\n",
       "      <td>No</td>\n",
       "      <td>No</td>\n",
       "      <td>Yes</td>\n",
       "      <td>No</td>\n",
       "      <td>Yes</td>\n",
       "      <td>Text &amp; Document mining</td>\n",
       "      <td>[3]</td>\n",
       "    </tr>\n",
       "    <tr>\n",
       "      <th>4</th>\n",
       "      <td>SGDC</td>\n",
       "      <td>A little</td>\n",
       "      <td>Difficult</td>\n",
       "      <td>Lower</td>\n",
       "      <td>Fast</td>\n",
       "      <td>Fast</td>\n",
       "      <td>Some</td>\n",
       "      <td>Yes</td>\n",
       "      <td>Yes</td>\n",
       "      <td>Yes</td>\n",
       "      <td>No</td>\n",
       "      <td>/</td>\n",
       "      <td>No</td>\n",
       "      <td>Shared Memory Systems</td>\n",
       "      <td>[4]</td>\n",
       "    </tr>\n",
       "    <tr>\n",
       "      <th>5</th>\n",
       "      <td>SVM</td>\n",
       "      <td>Somewhat</td>\n",
       "      <td>Difficult</td>\n",
       "      <td>Higher</td>\n",
       "      <td>Slow</td>\n",
       "      <td>Moderate</td>\n",
       "      <td>Some</td>\n",
       "      <td>No</td>\n",
       "      <td>No</td>\n",
       "      <td>Yes</td>\n",
       "      <td>No</td>\n",
       "      <td>No</td>\n",
       "      <td>Yes</td>\n",
       "      <td>Determination of natural gas viscosity</td>\n",
       "      <td>[5]</td>\n",
       "    </tr>\n",
       "    <tr>\n",
       "      <th>6</th>\n",
       "      <td>Logistic regression</td>\n",
       "      <td>Somewhat</td>\n",
       "      <td>Medium</td>\n",
       "      <td>Lower</td>\n",
       "      <td>Fast</td>\n",
       "      <td>Fast</td>\n",
       "      <td>None (excluding regularization)</td>\n",
       "      <td>Yes</td>\n",
       "      <td>No</td>\n",
       "      <td>No</td>\n",
       "      <td>Yes</td>\n",
       "      <td>Yes</td>\n",
       "      <td>No (unless regularized)</td>\n",
       "      <td>Alzheimer's disease study</td>\n",
       "      <td>[6]</td>\n",
       "    </tr>\n",
       "  </tbody>\n",
       "</table>\n",
       "</div>"
      ],
      "text/plain": [
       "             Algorithm Results interpretable? Algorithm complexity  \\\n",
       "0           GaussianNB               Somewhat               Medium   \n",
       "1       Decision trees               Somewhat               Medium   \n",
       "2       Random Forests               A little            Difficult   \n",
       "3                  KNN                    Yes                 Easy   \n",
       "4                 SGDC               A little            Difficult   \n",
       "5                  SVM               Somewhat            Difficult   \n",
       "6  Logistic regression               Somewhat               Medium   \n",
       "\n",
       "  Average predictive accuracy Training speed Prediction speed  \\\n",
       "0                       Lower           Fast             Fast   \n",
       "1                       Lower           Fast             Fast   \n",
       "2                      Higher           Slow         Moderate   \n",
       "3                       Lower           Fast     Depends on n   \n",
       "4                       Lower           Fast             Fast   \n",
       "5                      Higher           Slow         Moderate   \n",
       "6                       Lower           Fast             Fast   \n",
       "\n",
       "  Amount of parameter tuning needed (excluding feature selection)  \\\n",
       "0                        Some for feature extraction                \n",
       "1                                               Some                \n",
       "2                                               Some                \n",
       "3                                            Minimal                \n",
       "4                                               Some                \n",
       "5                                               Some                \n",
       "6                    None (excluding regularization)                \n",
       "\n",
       "  Performs well with small number of observations?  \\\n",
       "0                                              Yes   \n",
       "1                                               No   \n",
       "2                                               No   \n",
       "3                                               No   \n",
       "4                                              Yes   \n",
       "5                                               No   \n",
       "6                                              Yes   \n",
       "\n",
       "  Handles lots of irrelevant features well (separates signal from noise)?  \\\n",
       "0                                                Yes                        \n",
       "1                                                 No                        \n",
       "2              Yes (unless noise ratio is very high)                        \n",
       "3                                                 No                        \n",
       "4                                                Yes                        \n",
       "5                                                 No                        \n",
       "6                                                 No                        \n",
       "\n",
       "  Automatically learns feature interactions?  \\\n",
       "0                                         No   \n",
       "1                                        Yes   \n",
       "2                                        Yes   \n",
       "3                                         No   \n",
       "4                                        Yes   \n",
       "5                                        Yes   \n",
       "6                                         No   \n",
       "\n",
       "  Gives calibrated probabilities of class membership? Parametric?  \\\n",
       "0                                                 No          Yes   \n",
       "1                                           Possibly           No   \n",
       "2                                           Possibly           No   \n",
       "3                                                Yes           No   \n",
       "4                                                 No            /   \n",
       "5                                                 No           No   \n",
       "6                                                Yes          Yes   \n",
       "\n",
       "  Features might need scaling?                                  Application  \\\n",
       "0                           No                 Explore the brain activities   \n",
       "1                           No                 Dynamic security assessment    \n",
       "2                           No  Selection of premium-quality vegetable oils   \n",
       "3                          Yes                       Text & Document mining   \n",
       "4                           No                        Shared Memory Systems   \n",
       "5                          Yes       Determination of natural gas viscosity   \n",
       "6      No (unless regularized)                    Alzheimer's disease study   \n",
       "\n",
       "  Reference  \n",
       "0       [0]  \n",
       "1       [1]  \n",
       "2       [2]  \n",
       "3       [3]  \n",
       "4       [4]  \n",
       "5       [5]  \n",
       "6       [6]  "
      ]
     },
     "metadata": {},
     "output_type": "display_data"
    }
   ],
   "source": [
    "# For a more beautiful way to display, I stored information into a .csv file\n",
    "comp = pd.read_csv(\"classifier_compare.csv\")\n",
    "display(comp)"
   ]
  },
  {
   "cell_type": "markdown",
   "metadata": {},
   "source": [
    "Reference of application:\n",
    "\n",
    "[0]\thttp://ieeexplore.ieee.org/abstract/document/6779504/\n",
    "\n",
    "[1]\thttp://ieeexplore.ieee.org/abstract/document/6631512/\n",
    "\n",
    "[2]\thttp://www.sciencedirect.com/science/article/pii/S0308814613010820\n",
    "\n",
    "[3]\thttp://web.inf.ufpr.br/menotti/ci171-2015-2-1/files/seminario-Fabricio-artigo.pdf\n",
    "\n",
    "[4]\thttp://dl.acm.org/citation.cfm?id=2668133\n",
    "\n",
    "[5]\thttp://pubs.acs.org/doi/abs/10.1021/ie402829p\n",
    "\n",
    "[6]\thttp://onlinelibrary.wiley.com/doi/10.1111/biom.12504/full"
   ]
  },
  {
   "cell_type": "markdown",
   "metadata": {},
   "source": [
    "###Selection of Model###\n",
    "\n",
    "I think it is the most important aspect whether a model performs well on small dataset. Therefore, SGDC, GaussianNB and LogisticRegression are three candidate models which meet this criteria (based on the comparison above);\n",
    "\n",
    "To consider if our dataset is large or not, I consulted this page: http://scikit-learn.org/stable/tutorial/machine_learning_map/ , and it said 100K is a critical point. Since our data point is far less than 100K, it can be a small dataset.\n",
    "\n",
    "Meanwhile, SGDC is also recommended by the map (in the link) above in our case. Additionally, the map also indicates GaussianNB is very suitable for text data."
   ]
  },
  {
   "cell_type": "markdown",
   "metadata": {},
   "source": [
    "### Implementation - Creating a Training and Predicting Pipeline\n",
    "To properly evaluate the performance of each model you've chosen, it's important that you create a training and predicting pipeline that allows you to quickly and effectively train models using various sizes of training data and perform predictions on the testing data. Your implementation here will be used in the following section.\n",
    "In the code block below, you will need to implement the following:\n",
    " - Import `fbeta_score` and `accuracy_score` from [`sklearn.metrics`](http://scikit-learn.org/stable/modules/classes.html#sklearn-metrics-metrics).\n",
    " - Fit the learner to the sampled training data and record the training time.\n",
    " - Perform predictions on the test data `X_test`, and also on the first 300 training points `X_train[:300]`.\n",
    "   - Record the total prediction time.\n",
    " - Calculate the accuracy score for both the training subset and testing set.\n",
    " - Calculate the F-score for both the training subset and testing set.\n",
    "   - Make sure that you set the `beta` parameter!"
   ]
  },
  {
   "cell_type": "code",
   "execution_count": 45,
   "metadata": {
    "collapsed": false
   },
   "outputs": [],
   "source": [
    "# TODO: Import two metrics from sklearn - fbeta_score and accuracy_score\n",
    "from sklearn.metrics import fbeta_score, accuracy_score\n",
    "\n",
    "def train_predict(learner, sample_size, X_train, y_train, X_test, y_test): \n",
    "    '''\n",
    "    inputs:\n",
    "       - learner: the learning algorithm to be trained and predicted on\n",
    "       - sample_size: the size of samples (number) to be drawn from training set\n",
    "       - X_train: features training set\n",
    "       - y_train: income training set\n",
    "       - X_test: features testing set\n",
    "       - y_test: income testing set\n",
    "    '''\n",
    "    \n",
    "    results = {}\n",
    "    \n",
    "    # TODO: Fit the learner to the training data using slicing with 'sample_size'\n",
    "    start = time() # Get start time\n",
    "    learner.fit(X_train[:sample_size], y_train[:sample_size])\n",
    "    end = time() # Get end time\n",
    "    \n",
    "    # TODO: Calculate the training time\n",
    "    results['train_time'] = end - start\n",
    "        \n",
    "    # TODO: Get the predictions on the test set,\n",
    "    #       then get predictions on the first 300 training samples\n",
    "    start = time() # Get start time\n",
    "    predictions_test = learner.predict(X_test)\n",
    "    predictions_train = learner.predict(X_train[:300])\n",
    "    end = time() # Get end time\n",
    "    \n",
    "    # TODO: Calculate the total prediction time\n",
    "    results['pred_time'] = end - start\n",
    "            \n",
    "    # TODO: Compute accuracy on the first 300 training samples\n",
    "    results['acc_train'] = accuracy_score(y_train[:300], predictions_train)\n",
    "        \n",
    "    # TODO: Compute accuracy on test set\n",
    "    results['acc_test'] = accuracy_score(y_test, predictions_test)\n",
    "    \n",
    "    # TODO: Compute F-score on the the first 300 training samples\n",
    "    results['f_train'] = fbeta_score(y_train[:300], predictions_train, beta=0.5)\n",
    "        \n",
    "    # TODO: Compute F-score on the test set\n",
    "    results['f_test'] = fbeta_score(y_test, predictions_test, beta=0.5)\n",
    "       \n",
    "    # Success\n",
    "    print \"{} trained on {} samples.\".format(learner.__class__.__name__, sample_size)\n",
    "        \n",
    "    # Return the results\n",
    "    return results"
   ]
  },
  {
   "cell_type": "markdown",
   "metadata": {},
   "source": [
    "### Implementation: Initial Model Evaluation\n",
    "In the code cell, you will need to implement the following:\n",
    "- Import the three supervised learning models you've discussed in the previous section.\n",
    "- Initialize the three models and store them in `'clf_A'`, `'clf_B'`, and `'clf_C'`.\n",
    "  - Use a `'random_state'` for each model you use, if provided.\n",
    "  - **Note:** Use the default settings for each model — you will tune one specific model in a later section.\n",
    "- Calculate the number of records equal to 1%, 10%, and 100% of the training data.\n",
    "  - Store those values in `'samples_1'`, `'samples_10'`, and `'samples_100'` respectively.\n",
    "\n",
    "**Note:** Depending on which algorithms you chose, the following implementation may take some time to run!"
   ]
  },
  {
   "cell_type": "code",
   "execution_count": 48,
   "metadata": {
    "collapsed": false,
    "scrolled": true
   },
   "outputs": [
    {
     "name": "stdout",
     "output_type": "stream",
     "text": [
      "GaussianNB trained on 361 samples.\n",
      "GaussianNB trained on 3617 samples.\n",
      "GaussianNB trained on 36177 samples.\n",
      "SGDClassifier trained on 361 samples.\n",
      "SGDClassifier trained on 3617 samples.\n",
      "SGDClassifier trained on 36177 samples.\n",
      "LogisticRegression trained on 361 samples.\n",
      "LogisticRegression trained on 3617 samples.\n",
      "LogisticRegression trained on 36177 samples.\n"
     ]
    },
    {
     "data": {
      "image/png": "[encoded data removed]",
      "text/plain": [
       "<matplotlib.figure.Figure at 0x121d2198>"
      ]
     },
     "metadata": {},
     "output_type": "display_data"
    },
    {
     "name": "stdout",
     "output_type": "stream",
     "text": [
      "LogisticRegression\n"
     ]
    },
    {
     "data": {
      "text/html": [
       "<div>\n",
       "<table border=\"1\" class=\"dataframe\">\n",
       "  <thead>\n",
       "    <tr style=\"text-align: right;\">\n",
       "      <th></th>\n",
       "      <th>1% of train</th>\n",
       "      <th>10% of train</th>\n",
       "      <th>100% of train</th>\n",
       "    </tr>\n",
       "  </thead>\n",
       "  <tbody>\n",
       "    <tr>\n",
       "      <th>acc_test</th>\n",
       "      <td>0.811719</td>\n",
       "      <td>0.834936</td>\n",
       "      <td>0.846766</td>\n",
       "    </tr>\n",
       "    <tr>\n",
       "      <th>acc_train</th>\n",
       "      <td>0.880000</td>\n",
       "      <td>0.856667</td>\n",
       "      <td>0.886667</td>\n",
       "    </tr>\n",
       "    <tr>\n",
       "      <th>f_test</th>\n",
       "      <td>0.618951</td>\n",
       "      <td>0.674387</td>\n",
       "      <td>0.703108</td>\n",
       "    </tr>\n",
       "    <tr>\n",
       "      <th>f_train</th>\n",
       "      <td>0.760870</td>\n",
       "      <td>0.694444</td>\n",
       "      <td>0.766667</td>\n",
       "    </tr>\n",
       "    <tr>\n",
       "      <th>pred_time</th>\n",
       "      <td>0.006000</td>\n",
       "      <td>0.006000</td>\n",
       "      <td>0.005000</td>\n",
       "    </tr>\n",
       "    <tr>\n",
       "      <th>train_time</th>\n",
       "      <td>0.002000</td>\n",
       "      <td>0.027000</td>\n",
       "      <td>0.566000</td>\n",
       "    </tr>\n",
       "  </tbody>\n",
       "</table>\n",
       "</div>"
      ],
      "text/plain": [
       "            1% of train  10% of train  100% of train\n",
       "acc_test       0.811719      0.834936       0.846766\n",
       "acc_train      0.880000      0.856667       0.886667\n",
       "f_test         0.618951      0.674387       0.703108\n",
       "f_train        0.760870      0.694444       0.766667\n",
       "pred_time      0.006000      0.006000       0.005000\n",
       "train_time     0.002000      0.027000       0.566000"
      ]
     },
     "metadata": {},
     "output_type": "display_data"
    },
    {
     "name": "stdout",
     "output_type": "stream",
     "text": [
      "GaussianNB\n"
     ]
    },
    {
     "data": {
      "text/html": [
       "<div>\n",
       "<table border=\"1\" class=\"dataframe\">\n",
       "  <thead>\n",
       "    <tr style=\"text-align: right;\">\n",
       "      <th></th>\n",
       "      <th>1% of train</th>\n",
       "      <th>10% of train</th>\n",
       "      <th>100% of train</th>\n",
       "    </tr>\n",
       "  </thead>\n",
       "  <tbody>\n",
       "    <tr>\n",
       "      <th>acc_test</th>\n",
       "      <td>0.530238</td>\n",
       "      <td>0.358762</td>\n",
       "      <td>0.603759</td>\n",
       "    </tr>\n",
       "    <tr>\n",
       "      <th>acc_train</th>\n",
       "      <td>0.570000</td>\n",
       "      <td>0.310000</td>\n",
       "      <td>0.583333</td>\n",
       "    </tr>\n",
       "    <tr>\n",
       "      <th>f_test</th>\n",
       "      <td>0.380439</td>\n",
       "      <td>0.320539</td>\n",
       "      <td>0.428152</td>\n",
       "    </tr>\n",
       "    <tr>\n",
       "      <th>f_train</th>\n",
       "      <td>0.397196</td>\n",
       "      <td>0.288793</td>\n",
       "      <td>0.396040</td>\n",
       "    </tr>\n",
       "    <tr>\n",
       "      <th>pred_time</th>\n",
       "      <td>0.032000</td>\n",
       "      <td>0.029000</td>\n",
       "      <td>0.032000</td>\n",
       "    </tr>\n",
       "    <tr>\n",
       "      <th>train_time</th>\n",
       "      <td>0.002000</td>\n",
       "      <td>0.010000</td>\n",
       "      <td>0.116000</td>\n",
       "    </tr>\n",
       "  </tbody>\n",
       "</table>\n",
       "</div>"
      ],
      "text/plain": [
       "            1% of train  10% of train  100% of train\n",
       "acc_test       0.530238      0.358762       0.603759\n",
       "acc_train      0.570000      0.310000       0.583333\n",
       "f_test         0.380439      0.320539       0.428152\n",
       "f_train        0.397196      0.288793       0.396040\n",
       "pred_time      0.032000      0.029000       0.032000\n",
       "train_time     0.002000      0.010000       0.116000"
      ]
     },
     "metadata": {},
     "output_type": "display_data"
    },
    {
     "name": "stdout",
     "output_type": "stream",
     "text": [
      "SGDClassifier\n"
     ]
    },
    {
     "data": {
      "text/html": [
       "<div>\n",
       "<table border=\"1\" class=\"dataframe\">\n",
       "  <thead>\n",
       "    <tr style=\"text-align: right;\">\n",
       "      <th></th>\n",
       "      <th>1% of train</th>\n",
       "      <th>10% of train</th>\n",
       "      <th>100% of train</th>\n",
       "    </tr>\n",
       "  </thead>\n",
       "  <tbody>\n",
       "    <tr>\n",
       "      <th>acc_test</th>\n",
       "      <td>0.789829</td>\n",
       "      <td>0.749696</td>\n",
       "      <td>0.829630</td>\n",
       "    </tr>\n",
       "    <tr>\n",
       "      <th>acc_train</th>\n",
       "      <td>0.830000</td>\n",
       "      <td>0.770000</td>\n",
       "      <td>0.846667</td>\n",
       "    </tr>\n",
       "    <tr>\n",
       "      <th>f_test</th>\n",
       "      <td>0.530093</td>\n",
       "      <td>0.539909</td>\n",
       "      <td>0.656145</td>\n",
       "    </tr>\n",
       "    <tr>\n",
       "      <th>f_train</th>\n",
       "      <td>0.625000</td>\n",
       "      <td>0.545775</td>\n",
       "      <td>0.660112</td>\n",
       "    </tr>\n",
       "    <tr>\n",
       "      <th>pred_time</th>\n",
       "      <td>0.007000</td>\n",
       "      <td>0.007000</td>\n",
       "      <td>0.007000</td>\n",
       "    </tr>\n",
       "    <tr>\n",
       "      <th>train_time</th>\n",
       "      <td>0.003000</td>\n",
       "      <td>0.016000</td>\n",
       "      <td>0.143000</td>\n",
       "    </tr>\n",
       "  </tbody>\n",
       "</table>\n",
       "</div>"
      ],
      "text/plain": [
       "            1% of train  10% of train  100% of train\n",
       "acc_test       0.789829      0.749696       0.829630\n",
       "acc_train      0.830000      0.770000       0.846667\n",
       "f_test         0.530093      0.539909       0.656145\n",
       "f_train        0.625000      0.545775       0.660112\n",
       "pred_time      0.007000      0.007000       0.007000\n",
       "train_time     0.003000      0.016000       0.143000"
      ]
     },
     "metadata": {},
     "output_type": "display_data"
    }
   ],
   "source": [
    "# TODO: Import the three supervised learning models from sklearn\n",
    "from sklearn.naive_bayes import GaussianNB\n",
    "from sklearn.linear_model import SGDClassifier, LogisticRegression\n",
    "\n",
    "# TODO: Initialize the three models\n",
    "clf_A = GaussianNB()\n",
    "clf_B = SGDClassifier(random_state=42)\n",
    "clf_C = LogisticRegression(random_state=42)\n",
    "\n",
    "# TODO: Calculate the number of samples for 1%, 10%, and 100% of the training data\n",
    "samples_1 = int(len(X_train)*0.01)\n",
    "samples_10 = int(len(X_train)*0.1)\n",
    "samples_100 = int(len(X_train)*1)\n",
    "\n",
    "# Collect results on the learners\n",
    "results = {}\n",
    "for clf in [clf_A, clf_B, clf_C]:\n",
    "    clf_name = clf.__class__.__name__\n",
    "    results[clf_name] = {}\n",
    "    for i, samples in enumerate([samples_1, samples_10, samples_100]):\n",
    "        results[clf_name][i] = \\\n",
    "        train_predict(clf, samples, X_train, y_train, X_test, y_test)\n",
    "# Run metrics visualization for the three supervised learning models chosen\n",
    "vs.evaluate(results, accuracy, fscore)\n",
    "\n",
    "# Numerical output\n",
    "for i in results.items():\n",
    "    print i[0]\n",
    "    display(pd.DataFrame(i[1]).rename(columns={0:'1% of train', 1:'10% of train', 2:'100% of train'}))"
   ]
  },
  {
   "cell_type": "markdown",
   "metadata": {},
   "source": [
    "----\n",
    "## Improving Results\n",
    "In this final section, you will choose from the three supervised learning models the *best* model to use on the student data. You will then perform a grid search optimization for the model over the entire training set (`X_train` and `y_train`) by tuning at least one parameter to improve upon the untuned model's F-score. "
   ]
  },
  {
   "cell_type": "markdown",
   "metadata": {},
   "source": [
    "### Question 3 - Choosing the Best Model\n",
    "*Based on the evaluation you performed earlier, in one to two paragraphs, explain to *CharityML* which of the three models you believe to be most appropriate for the task of identifying individuals that make more than \\$50,000.*  \n",
    "**Hint:** Your answer should include discussion of the metrics, prediction/training time, and the algorithm's suitability for the data."
   ]
  },
  {
   "cell_type": "markdown",
   "metadata": {},
   "source": [
    "**Answer: **\n",
    "\n",
    "(1) Accuracy & F-score\n",
    "\n",
    "First, it's weird that both accuracy and F-score of SGDClassifier suddenly drops at 10% and then increases at 100% training size. Second, the performance of LogisticRegression is stable regardless of the training set size. But for GaussianNB, the more training data, the higher performance is. However, for each size of training set, LogisticRegression always perform far better than GaussianNB, and perform equally to SGDClassifier in 1% and 100% training set size.\n",
    "\n",
    "(2) Time\n",
    "\n",
    "LogisticRegression spends far more time on training while GaussianNB need more time to predict. Meanwhile, the more data point, the longer time is needed for training. But the prediction time would be affected by this.\n",
    "\n",
    "For CharityML, I think accuracy & F-score are the most important in our case, compared to training/prediction time. Therefore, I believe LogisticRegression is the best choice in our case (the data set is not very large).\n",
    "\n",
    "To confirm that LogisticRegression is really ideal for our problem, I still would like to compare LogisticRegression with other two algorithms  suggested in http://scikit-learn.org/stable/tutorial/machine_learning_map/ (i.e. those algorithms when samples > 100K)"
   ]
  },
  {
   "cell_type": "code",
   "execution_count": 52,
   "metadata": {
    "collapsed": false
   },
   "outputs": [
    {
     "name": "stdout",
     "output_type": "stream",
     "text": [
      "LogisticRegression trained on 361 samples.\n",
      "LogisticRegression trained on 3617 samples.\n",
      "LogisticRegression trained on 36177 samples.\n",
      "SVC trained on 361 samples.\n",
      "SVC trained on 3617 samples.\n",
      "SVC trained on 36177 samples.\n",
      "KNeighborsClassifier trained on 361 samples.\n",
      "KNeighborsClassifier trained on 3617 samples.\n",
      "KNeighborsClassifier trained on 36177 samples.\n"
     ]
    },
    {
     "data": {
      "image/png": "[encoded data removed]",
      "text/plain": [
       "<matplotlib.figure.Figure at 0x11aa4390>"
      ]
     },
     "metadata": {},
     "output_type": "display_data"
    },
    {
     "name": "stdout",
     "output_type": "stream",
     "text": [
      "LogisticRegression\n"
     ]
    },
    {
     "data": {
      "text/html": [
       "<div>\n",
       "<table border=\"1\" class=\"dataframe\">\n",
       "  <thead>\n",
       "    <tr style=\"text-align: right;\">\n",
       "      <th></th>\n",
       "      <th>1% of train</th>\n",
       "      <th>10% of train</th>\n",
       "      <th>100% of train</th>\n",
       "    </tr>\n",
       "  </thead>\n",
       "  <tbody>\n",
       "    <tr>\n",
       "      <th>acc_test</th>\n",
       "      <td>0.811719</td>\n",
       "      <td>0.834936</td>\n",
       "      <td>0.846766</td>\n",
       "    </tr>\n",
       "    <tr>\n",
       "      <th>acc_train</th>\n",
       "      <td>0.880000</td>\n",
       "      <td>0.856667</td>\n",
       "      <td>0.886667</td>\n",
       "    </tr>\n",
       "    <tr>\n",
       "      <th>f_test</th>\n",
       "      <td>0.618951</td>\n",
       "      <td>0.674387</td>\n",
       "      <td>0.703108</td>\n",
       "    </tr>\n",
       "    <tr>\n",
       "      <th>f_train</th>\n",
       "      <td>0.760870</td>\n",
       "      <td>0.694444</td>\n",
       "      <td>0.766667</td>\n",
       "    </tr>\n",
       "    <tr>\n",
       "      <th>pred_time</th>\n",
       "      <td>0.008000</td>\n",
       "      <td>0.006000</td>\n",
       "      <td>0.006000</td>\n",
       "    </tr>\n",
       "    <tr>\n",
       "      <th>train_time</th>\n",
       "      <td>0.002000</td>\n",
       "      <td>0.031000</td>\n",
       "      <td>0.590000</td>\n",
       "    </tr>\n",
       "  </tbody>\n",
       "</table>\n",
       "</div>"
      ],
      "text/plain": [
       "            1% of train  10% of train  100% of train\n",
       "acc_test       0.811719      0.834936       0.846766\n",
       "acc_train      0.880000      0.856667       0.886667\n",
       "f_test         0.618951      0.674387       0.703108\n",
       "f_train        0.760870      0.694444       0.766667\n",
       "pred_time      0.008000      0.006000       0.006000\n",
       "train_time     0.002000      0.031000       0.590000"
      ]
     },
     "metadata": {},
     "output_type": "display_data"
    },
    {
     "name": "stdout",
     "output_type": "stream",
     "text": [
      "SVC\n"
     ]
    },
    {
     "data": {
      "text/html": [
       "<div>\n",
       "<table border=\"1\" class=\"dataframe\">\n",
       "  <thead>\n",
       "    <tr style=\"text-align: right;\">\n",
       "      <th></th>\n",
       "      <th>1% of train</th>\n",
       "      <th>10% of train</th>\n",
       "      <th>100% of train</th>\n",
       "    </tr>\n",
       "  </thead>\n",
       "  <tbody>\n",
       "    <tr>\n",
       "      <th>acc_test</th>\n",
       "      <td>0.752128</td>\n",
       "      <td>0.824655</td>\n",
       "      <td>0.832283</td>\n",
       "    </tr>\n",
       "    <tr>\n",
       "      <th>acc_train</th>\n",
       "      <td>0.773333</td>\n",
       "      <td>0.833333</td>\n",
       "      <td>0.836667</td>\n",
       "    </tr>\n",
       "    <tr>\n",
       "      <th>f_test</th>\n",
       "      <td>0.000000</td>\n",
       "      <td>0.653524</td>\n",
       "      <td>0.673508</td>\n",
       "    </tr>\n",
       "    <tr>\n",
       "      <th>f_train</th>\n",
       "      <td>0.000000</td>\n",
       "      <td>0.635246</td>\n",
       "      <td>0.645161</td>\n",
       "    </tr>\n",
       "    <tr>\n",
       "      <th>pred_time</th>\n",
       "      <td>0.235000</td>\n",
       "      <td>1.989000</td>\n",
       "      <td>16.119000</td>\n",
       "    </tr>\n",
       "    <tr>\n",
       "      <th>train_time</th>\n",
       "      <td>0.010000</td>\n",
       "      <td>1.083000</td>\n",
       "      <td>102.809000</td>\n",
       "    </tr>\n",
       "  </tbody>\n",
       "</table>\n",
       "</div>"
      ],
      "text/plain": [
       "            1% of train  10% of train  100% of train\n",
       "acc_test       0.752128      0.824655       0.832283\n",
       "acc_train      0.773333      0.833333       0.836667\n",
       "f_test         0.000000      0.653524       0.673508\n",
       "f_train        0.000000      0.635246       0.645161\n",
       "pred_time      0.235000      1.989000      16.119000\n",
       "train_time     0.010000      1.083000     102.809000"
      ]
     },
     "metadata": {},
     "output_type": "display_data"
    },
    {
     "name": "stdout",
     "output_type": "stream",
     "text": [
      "KNeighborsClassifier\n"
     ]
    },
    {
     "data": {
      "text/html": [
       "<div>\n",
       "<table border=\"1\" class=\"dataframe\">\n",
       "  <thead>\n",
       "    <tr style=\"text-align: right;\">\n",
       "      <th></th>\n",
       "      <th>1% of train</th>\n",
       "      <th>10% of train</th>\n",
       "      <th>100% of train</th>\n",
       "    </tr>\n",
       "  </thead>\n",
       "  <tbody>\n",
       "    <tr>\n",
       "      <th>acc_test</th>\n",
       "      <td>0.801658</td>\n",
       "      <td>0.812825</td>\n",
       "      <td>0.815036</td>\n",
       "    </tr>\n",
       "    <tr>\n",
       "      <th>acc_train</th>\n",
       "      <td>0.876667</td>\n",
       "      <td>0.870000</td>\n",
       "      <td>0.890000</td>\n",
       "    </tr>\n",
       "    <tr>\n",
       "      <th>f_test</th>\n",
       "      <td>0.598066</td>\n",
       "      <td>0.622165</td>\n",
       "      <td>0.627063</td>\n",
       "    </tr>\n",
       "    <tr>\n",
       "      <th>f_train</th>\n",
       "      <td>0.726744</td>\n",
       "      <td>0.732143</td>\n",
       "      <td>0.773026</td>\n",
       "    </tr>\n",
       "    <tr>\n",
       "      <th>pred_time</th>\n",
       "      <td>0.620000</td>\n",
       "      <td>4.029000</td>\n",
       "      <td>33.141000</td>\n",
       "    </tr>\n",
       "    <tr>\n",
       "      <th>train_time</th>\n",
       "      <td>0.001000</td>\n",
       "      <td>0.016000</td>\n",
       "      <td>1.778000</td>\n",
       "    </tr>\n",
       "  </tbody>\n",
       "</table>\n",
       "</div>"
      ],
      "text/plain": [
       "            1% of train  10% of train  100% of train\n",
       "acc_test       0.801658      0.812825       0.815036\n",
       "acc_train      0.876667      0.870000       0.890000\n",
       "f_test         0.598066      0.622165       0.627063\n",
       "f_train        0.726744      0.732143       0.773026\n",
       "pred_time      0.620000      4.029000      33.141000\n",
       "train_time     0.001000      0.016000       1.778000"
      ]
     },
     "metadata": {},
     "output_type": "display_data"
    }
   ],
   "source": [
    "# TODO: Import the three supervised learning models from sklearn\n",
    "from sklearn.svm import SVC\n",
    "from sklearn.linear_model import LogisticRegression\n",
    "from sklearn.neighbors import KNeighborsClassifier\n",
    "# Initialize the three models\n",
    "clf_A = LogisticRegression(random_state=42)\n",
    "clf_B = SVC(random_state=42)\n",
    "clf_C = KNeighborsClassifier()\n",
    "\n",
    "# Calculate the number of samples for 1%, 10%, and 100% of the training data\n",
    "samples_1 = int(len(X_train)*0.01)\n",
    "samples_10 = int(len(X_train)*0.1)\n",
    "samples_100 = int(len(X_train)*1)\n",
    "\n",
    "# Collect results on the learners\n",
    "results = {}\n",
    "for clf in [clf_A, clf_B, clf_C]:\n",
    "    clf_name = clf.__class__.__name__\n",
    "    results[clf_name] = {}\n",
    "    for i, samples in enumerate([samples_1, samples_10, samples_100]):\n",
    "        results[clf_name][i] = \\\n",
    "        train_predict(clf, samples, X_train, y_train, X_test, y_test)\n",
    "# Run metrics visualization for the three supervised learning models chosen\n",
    "vs.evaluate(results, accuracy, fscore)\n",
    "\n",
    "# Numerical output\n",
    "for i in results.items():\n",
    "    print i[0]\n",
    "    display(pd.DataFrame(i[1]).rename(columns={0:'1% of train', 1:'10% of train', 2:'100% of train'}))"
   ]
  },
  {
   "cell_type": "markdown",
   "metadata": {},
   "source": [
    "It is obvious that SVM and KNN perform very close to LogisticRegression in most cases, then we have three conclusions:\n",
    "\n",
    "(1) SVM and KNN seems to be better than GaussianNB and SGDClassifier;\n",
    "\n",
    "(2) LogisticRegression still can be the best choice of our problem;\n",
    "\n",
    "(3) Compared to SVM and KNN, the training/prediction time is far less for LogisticRegression;"
   ]
  },
  {
   "cell_type": "markdown",
   "metadata": {},
   "source": [
    "### Question 4 - Describing the Model in Layman's Terms\n",
    "*In one to two paragraphs, explain to *CharityML*, in layman's terms, how the final model chosen is supposed to work. Be sure that you are describing the major qualities of the model, such as how the model is trained and how the model makes a prediction. Avoid using advanced mathematical or technical jargon, such as describing equations or discussing the algorithm implementation.*"
   ]
  },
  {
   "cell_type": "markdown",
   "metadata": {},
   "source": [
    "**Answer: **\n",
    "\n",
    "The chosen model is based on 'LogisticRegression';\n",
    "\n",
    "[model training]: both input and output value is known\n",
    "\n",
    "1. Because both input and output value is known, each feature is given a weight to quantify how important is that feature. Then the weight of each feature is summed up;\n",
    "\n",
    "2. The result is then applied to a logistic function where the output is between 0 and 1 (also regarded as probability); Here, if the output is higher than 0.5, then we are pretty sure the person would have income >50K; If the output is lower than 0.5, that \"income >50K\" may not happen;\n",
    "\n",
    "[Prediction]: only the input value is known\n",
    "\n",
    "For any test input value (which consists of many features), we can simply plug it in our model and the output indicate if the person has income larger than 50K."
   ]
  },
  {
   "cell_type": "markdown",
   "metadata": {},
   "source": [
    "### Implementation: Model Tuning\n",
    "Fine tune the chosen model. Use grid search (`GridSearchCV`) with at least one important parameter tuned with at least 3 different values. You will need to use the entire training set for this. In the code cell below, you will need to implement the following:\n",
    "- Import [`sklearn.grid_search.GridSearchCV`](http://scikit-learn.org/0.17/modules/generated/sklearn.grid_search.GridSearchCV.html) and [`sklearn.metrics.make_scorer`](http://scikit-learn.org/stable/modules/generated/sklearn.metrics.make_scorer.html).\n",
    "- Initialize the classifier you've chosen and store it in `clf`.\n",
    " - Set a `random_state` if one is available to the same state you set before.\n",
    "- Create a dictionary of parameters you wish to tune for the chosen model.\n",
    " - Example: `parameters = {'parameter' : [list of values]}`.\n",
    " - **Note:** Avoid tuning the `max_features` parameter of your learner if that parameter is available!\n",
    "- Use `make_scorer` to create an `fbeta_score` scoring object (with $\\beta = 0.5$).\n",
    "- Perform grid search on the classifier `clf` using the `'scorer'`, and store it in `grid_obj`.\n",
    "- Fit the grid search object to the training data (`X_train`, `y_train`), and store it in `grid_fit`.\n",
    "\n",
    "**Note:** Depending on the algorithm chosen and the parameter list, the following implementation may take some time to run!"
   ]
  },
  {
   "cell_type": "code",
   "execution_count": 55,
   "metadata": {
    "collapsed": false
   },
   "outputs": [
    {
     "name": "stdout",
     "output_type": "stream",
     "text": [
      "Unoptimized model\n",
      "------\n",
      "Accuracy score on testing data: 0.8468\n",
      "F-score on testing data: 0.7031\n",
      "\n",
      "Optimized Model\n",
      "------\n",
      "Final accuracy score on the testing data: 0.8489\n",
      "Final F-score on the testing data: 0.7078\n",
      "\n",
      "The optimized parameters:\n",
      "LogisticRegression(C=2.0, class_weight=None, dual=False, fit_intercept=True,\n",
      "          intercept_scaling=1, max_iter=500, multi_class='ovr', n_jobs=1,\n",
      "          penalty='l1', random_state=42, solver='liblinear', tol=0.0001,\n",
      "          verbose=0, warm_start=False)\n"
     ]
    }
   ],
   "source": [
    "# TODO: Import 'GridSearchCV', 'make_scorer', and any other necessary libraries\n",
    "from sklearn.grid_search import GridSearchCV\n",
    "from sklearn.metrics import make_scorer\n",
    "from sklearn.linear_model import LogisticRegression\n",
    "from sklearn.cross_validation import StratifiedShuffleSplit\n",
    "\n",
    "# TODO: Initialize the classifier\n",
    "clf = LogisticRegression(max_iter=500, random_state=42)\n",
    "\n",
    "# TODO: Create the parameters list you wish to tune\n",
    "parameters = {'penalty':['l1','l2'],'C':[2.0, 6.0, 10.0, 14.0, 18.0],\n",
    "              'fit_intercept':[True, False]}\n",
    "\n",
    "# TODO: Make an fbeta_score scoring object\n",
    "scorer = make_scorer(fbeta_score, beta=0.5)\n",
    "\n",
    "# TODO: Perform grid search on the classifier using 'scorer' as the scoring method\n",
    "cv = StratifiedShuffleSplit(y_train, test_size=0.2, random_state=42)\n",
    "grid_obj = GridSearchCV(clf, param_grid=parameters, cv=cv, scoring=scorer)\n",
    "\n",
    "# TODO: Fit the grid search object to the training data and find the optimal parameters\n",
    "grid_fit = grid_obj.fit(X_train, y_train)\n",
    "\n",
    "# Get the estimator\n",
    "best_clf = grid_fit.best_estimator_\n",
    "\n",
    "# Make predictions using the unoptimized and model\n",
    "predictions = (clf.fit(X_train, y_train)).predict(X_test)\n",
    "best_predictions = best_clf.predict(X_test)\n",
    "\n",
    "# Report the before-and-afterscores\n",
    "print \"Unoptimized model\\n------\"\n",
    "print \"Accuracy score on testing data: {:.4f}\".format(accuracy_score(y_test, predictions))\n",
    "print \"F-score on testing data: {:.4f}\".format(fbeta_score(y_test, predictions, beta = 0.5))\n",
    "print \"\\nOptimized Model\\n------\"\n",
    "print \"Final accuracy score on the testing data: {:.4f}\".format(accuracy_score(y_test, best_predictions))\n",
    "print \"Final F-score on the testing data: {:.4f}\".format(fbeta_score(y_test, best_predictions, beta = 0.5))\n",
    "print \"\\nThe optimized parameters:\"\n",
    "print best_clf"
   ]
  },
  {
   "cell_type": "markdown",
   "metadata": {},
   "source": [
    "### Question 5 - Final Model Evaluation\n",
    "_What is your optimized model's accuracy and F-score on the testing data? Are these scores better or worse than the unoptimized model? How do the results from your optimized model compare to the naive predictor benchmarks you found earlier in **Question 1**?_  \n",
    "**Note:** Fill in the table below with your results, and then provide discussion in the **Answer** box."
   ]
  },
  {
   "cell_type": "markdown",
   "metadata": {},
   "source": [
    "#### Results:\n",
    "\n",
    "|     Metric     | Benchmark Predictor | Unoptimized Model | Optimized Model |\n",
    "| :------------: | :-----------------: | :---------------: | :-------------: | \n",
    "| Accuracy Score |0.2478|0.8468|0.8489|\n",
    "| F-score        |0.2917|0.7031|0.7078|\n"
   ]
  },
  {
   "cell_type": "markdown",
   "metadata": {},
   "source": [
    "**Answer: **\n",
    "\n",
    "Using deliberately selected and tuned model 'LinearRegression', the performance (i.e. accuracy and F-score) has been dramatically improved. However, if we just compare the performance of unoptimized and optimized model, they are very close. I guess this would because there are so many features in our model, and some of them may be less important for prediction (but the model didn't give the weight to each feature). So, it would be hard to greatly improve the performance of model by optimization without identifying the most important features."
   ]
  },
  {
   "cell_type": "markdown",
   "metadata": {},
   "source": [
    "### Another Option: Xgboost"
   ]
  },
  {
   "cell_type": "markdown",
   "metadata": {},
   "source": [
    "####Note: the two cells below cannot be run, just for display purpose. The script is also attached to the root of \"finding_donor\" repository in Github"
   ]
  },
  {
   "cell_type": "code",
   "execution_count": null,
   "metadata": {
    "collapsed": true
   },
   "outputs": [],
   "source": [
    "import pandas as pd\n",
    "from sklearn.cross_validation import train_test_split\n",
    "from xgboost import XGBClassifier\n",
    "from sklearn.metrics import make_scorer, accuracy_score, fbeta_score\n",
    "from sklearn.grid_search import GridSearchCV\n",
    "from time import time\n",
    "\n",
    "# Load dataset\n",
    "data = pd.read_csv(\"census.csv\")\n",
    "\n",
    "# Split dataset\n",
    "income = map(lambda x: 0 if x=='<=50K' else 1, data.income)\n",
    "\n",
    "features_raw = data.drop('income', axis=1)\n",
    "non_numeric = ['workclass','education_level','marital-status','occupation','relationship','race','sex','native-country']\n",
    "features = pd.get_dummies(data=features_raw, columns=non_numeric)\n",
    "\n",
    "X_train, X_test, y_train, y_test = train_test_split(features, income, stratify=income, test_size=0.2, random_state = 42)\n",
    "\n",
    "# Model fitting\n",
    "model = XGBClassifier()\n",
    "model.fit(X_train, y_train)\n",
    "\n",
    "start = time()\n",
    "model_pred = model.predict(X_test)\n",
    "end = time()\n",
    "pred_time = end - start\n",
    "\n",
    "\n",
    "# Model tuning\n",
    "start = time()\n",
    "parameters = {'max_depth':[2,4,6,8,10],'min_child_weight':[0,2,4,6], 'gamma':[0,2,4],'max_delta_step':[0,3,6,9]}\n",
    "scorer = make_scorer(fbeta_score, beta=0.5)\n",
    "grid_fit = GridSearchCV(model, parameters, cv=3, scoring=scorer).fit(X_train, y_train)\n",
    "best_model = grid_fit.best_estimator_\n",
    "end = time()\n",
    "tune_time = end - start\n",
    "\n",
    "# Scoring\n",
    "results = {}\n",
    "results['accuracy_unoptimized']=accuracy_score(y_test, model.predict(X_test))\n",
    "results['f_score_unoptimized']=fbeta_score(y_test, model.predict(X_test),beta=0.5)\n",
    "results['accuracy_optimized']=accuracy_score(y_test, best_model.predict(X_test))\n",
    "results['f_score_optimized']=fbeta_score(y_test, best_model.predict(X_test),beta=0.5)\n",
    "print best_model\n",
    "print results\n",
    "print \"Predition time is:\", pred_time, \"sec, and tuning time is:\", tune_time, \"sec\""
   ]
  },
  {
   "cell_type": "code",
   "execution_count": null,
   "metadata": {
    "collapsed": true
   },
   "outputs": [],
   "source": [
    ">>>\n",
    "\n",
    "XGBClassifier(base_score=0.5, colsample_bylevel=1, colsample_bytree=1,\n",
    "       gamma=4, learning_rate=0.1, max_delta_step=3, max_depth=6,\n",
    "       min_child_weight=4, missing=None, n_estimators=100, nthread=-1,\n",
    "       objective='binary:logistic', reg_alpha=0, reg_lambda=1,\n",
    "       scale_pos_weight=1, seed=0, silent=True, subsample=1)\n",
    "{'accuracy_optimized': 0.86644555002763957, 'f_score_optimized': 0.75058349246764267, 'accuracy_unoptimized': 0.85693753454947486, 'f_score_unoptimized': 0.73486051258788843}\n",
    "Predition time is: 0.0238847732544 sec, and tuning time is: 2820.11243987 sec"
   ]
  },
  {
   "cell_type": "markdown",
   "metadata": {},
   "source": [
    "#### Results:\n",
    "\n",
    "|     Metric     |Unoptimized_Logistic| Unoptimized_Xgboost | Optimized_Logistic |Optimized_Xgboost |\n",
    "| :------------: | :-----------------: | :---------------: | :-------------: | :-------------: |\n",
    "| Accuracy Score |0.8483|0.8468|0.8489|0.8664|\n",
    "| F-score        |0.6993|0.7031|0.7078|0.7505|"
   ]
  },
  {
   "cell_type": "markdown",
   "metadata": {},
   "source": [
    "As compared above, in terms of accuracy, the xgboost algorithm is slightly better than LogisticRegression model for our problem; moreover, xgboost significantly improves F-score indeed, which indicate its precision is also higher than LogisticRegression;"
   ]
  },
  {
   "cell_type": "markdown",
   "metadata": {},
   "source": [
    "----\n",
    "## Feature Importance\n",
    "\n",
    "An important task when performing supervised learning on a dataset like the census data we study here is determining which features provide the most predictive power. By focusing on the relationship between only a few crucial features and the target label we simplify our understanding of the phenomenon, which is most always a useful thing to do. In the case of this project, that means we wish to identify a small number of features that most strongly predict whether an individual makes at most or more than \\$50,000.\n",
    "\n",
    "Choose a scikit-learn classifier (e.g., adaboost, random forests) that has a `feature_importance_` attribute, which is a function that ranks the importance of features according to the chosen classifier.  In the next python cell fit this classifier to training set and use this attribute to determine the top 5 most important features for the census dataset."
   ]
  },
  {
   "cell_type": "markdown",
   "metadata": {},
   "source": [
    "### Question 6 - Feature Relevance Observation\n",
    "When **Exploring the Data**, it was shown there are thirteen available features for each individual on record in the census data.  \n",
    "_Of these thirteen records, which five features do you believe to be most important for prediction, and in what order would you rank them and why?_"
   ]
  },
  {
   "cell_type": "markdown",
   "metadata": {},
   "source": [
    "**Answer:**\n",
    "\n",
    "[1] Occupation: directly determine the salary level;\n",
    "\n",
    "[2] Hours-per-week: also determine the salary level;\n",
    "\n",
    "[3] Education-level: higher education would make individual decent and care more about society;\n",
    "\n",
    "[4] Workclass: individual hired by government may care more about society;\n",
    "\n",
    "[5] Marital-status: it seems that married individual always have sympathy to others since they have babies;"
   ]
  },
  {
   "cell_type": "markdown",
   "metadata": {},
   "source": [
    "### Implementation - Extracting Feature Importance\n",
    "Choose a `scikit-learn` supervised learning algorithm that has a `feature_importance_` attribute availble for it. This attribute is a function that ranks the importance of each feature when making predictions based on the chosen algorithm.\n",
    "\n",
    "In the code cell below, you will need to implement the following:\n",
    " - Import a supervised learning model from sklearn if it is different from the three used earlier.\n",
    " - Train the supervised model on the entire training set.\n",
    " - Extract the feature importances using `'.feature_importances_'`."
   ]
  },
  {
   "cell_type": "code",
   "execution_count": 19,
   "metadata": {
    "collapsed": false
   },
   "outputs": [
    {
     "name": "stdout",
     "output_type": "stream",
     "text": [
      "Important feature computed by RandomForestClassifier\n"
     ]
    },
    {
     "data": {
      "image/png": "[encoded data removed]",
      "text/plain": [
       "<matplotlib.figure.Figure at 0xcfe74a8>"
      ]
     },
     "metadata": {},
     "output_type": "display_data"
    }
   ],
   "source": [
    "# TODO: Import a supervised learning model that has 'feature_importances_'\n",
    "from sklearn.ensemble import RandomForestClassifier\n",
    "from sklearn.feature_selection import RFE\n",
    "# TODO: Train the supervised model on the training set \n",
    "model_1 = RandomForestClassifier().fit(X_train, y_train)\n",
    "\n",
    "# TODO: Extract the feature importances\n",
    "importances = model_1.feature_importances_\n",
    "# Plot\n",
    "print 'Important feature computed by RandomForestClassifier'\n",
    "vs.feature_plot(importances, X_train, y_train)"
   ]
  },
  {
   "cell_type": "markdown",
   "metadata": {},
   "source": [
    "### Question 7 - Extracting Feature Importance\n",
    "\n",
    "Observe the visualization created above which displays the five most relevant features for predicting if an individual makes at most or above \\$50,000.  \n",
    "_How do these five features compare to the five features you discussed in **Question 6**? If you were close to the same answer, how does this visualization confirm your thoughts? If you were not close, why do you think these features are more relevant?_"
   ]
  },
  {
   "cell_type": "markdown",
   "metadata": {},
   "source": [
    "**Answer:**\n",
    "\n",
    "Only 'hours-per-week' matches my guess in question 6.\n",
    "\n",
    "The results show that:\n",
    "\n",
    "[1] Age: this is reasonable to some extent, because young people need money to buy their own car & house and has no extra to donate, although they may earn more than 50K;\n",
    "\n",
    "[2] Hours-per-week: as I said, this is directly related to salary level;\n",
    "\n",
    "[3] Capital-gain: except for salary from company, capital-gain(e.g. stock) is another important way to get money;\n",
    "\n",
    "[4] Relationship_Husband: maybe normally husband in a family earn more than their wife;\n",
    "\n",
    "[5] Education-num: higher education would make individual decent and care more about society;"
   ]
  },
  {
   "cell_type": "code",
   "execution_count": 91,
   "metadata": {
    "collapsed": false
   },
   "outputs": [
    {
     "data": {
      "text/html": [
       "<div>\n",
       "<table border=\"1\" class=\"dataframe\">\n",
       "  <thead>\n",
       "    <tr style=\"text-align: right;\">\n",
       "      <th></th>\n",
       "      <th>Coef_</th>\n",
       "      <th>Odds_Ratio_</th>\n",
       "      <th>P_values</th>\n",
       "    </tr>\n",
       "  </thead>\n",
       "  <tbody>\n",
       "    <tr>\n",
       "      <th>age</th>\n",
       "      <td>1.810175</td>\n",
       "      <td>6.111515e+00</td>\n",
       "      <td>3.747991e-51</td>\n",
       "    </tr>\n",
       "    <tr>\n",
       "      <th>education-num</th>\n",
       "      <td>1.747256</td>\n",
       "      <td>5.738834e+00</td>\n",
       "      <td>1.786538e-44</td>\n",
       "    </tr>\n",
       "    <tr>\n",
       "      <th>capital-gain</th>\n",
       "      <td>18.541401</td>\n",
       "      <td>1.128309e+08</td>\n",
       "      <td>1.365860e-202</td>\n",
       "    </tr>\n",
       "    <tr>\n",
       "      <th>capital-loss</th>\n",
       "      <td>2.686286</td>\n",
       "      <td>1.467707e+01</td>\n",
       "      <td>7.061181e-79</td>\n",
       "    </tr>\n",
       "    <tr>\n",
       "      <th>hours-per-week</th>\n",
       "      <td>2.806419</td>\n",
       "      <td>1.655055e+01</td>\n",
       "      <td>1.953968e-16</td>\n",
       "    </tr>\n",
       "    <tr>\n",
       "      <th>workclass_ Federal-gov</th>\n",
       "      <td>0.192335</td>\n",
       "      <td>1.212076e+00</td>\n",
       "      <td>3.730763e-28</td>\n",
       "    </tr>\n",
       "    <tr>\n",
       "      <th>workclass_ Local-gov</th>\n",
       "      <td>-0.444771</td>\n",
       "      <td>6.409710e-01</td>\n",
       "      <td>4.278918e-07</td>\n",
       "    </tr>\n",
       "    <tr>\n",
       "      <th>workclass_ Private</th>\n",
       "      <td>-0.275017</td>\n",
       "      <td>7.595589e-01</td>\n",
       "      <td>4.542286e-30</td>\n",
       "    </tr>\n",
       "    <tr>\n",
       "      <th>workclass_ Self-emp-inc</th>\n",
       "      <td>-0.172932</td>\n",
       "      <td>8.411944e-01</td>\n",
       "      <td>8.067165e-139</td>\n",
       "    </tr>\n",
       "    <tr>\n",
       "      <th>workclass_ Self-emp-not-inc</th>\n",
       "      <td>-0.784475</td>\n",
       "      <td>4.563594e-01</td>\n",
       "      <td>1.097577e-05</td>\n",
       "    </tr>\n",
       "    <tr>\n",
       "      <th>workclass_ State-gov</th>\n",
       "      <td>-0.556297</td>\n",
       "      <td>5.733281e-01</td>\n",
       "      <td>1.473170e-02</td>\n",
       "    </tr>\n",
       "    <tr>\n",
       "      <th>workclass_ Without-pay</th>\n",
       "      <td>-0.654037</td>\n",
       "      <td>5.199423e-01</td>\n",
       "      <td>3.629445e-01</td>\n",
       "    </tr>\n",
       "    <tr>\n",
       "      <th>education_level_ 10th</th>\n",
       "      <td>-0.752138</td>\n",
       "      <td>4.713575e-01</td>\n",
       "      <td>4.396877e-41</td>\n",
       "    </tr>\n",
       "    <tr>\n",
       "      <th>education_level_ 11th</th>\n",
       "      <td>-0.746704</td>\n",
       "      <td>4.739262e-01</td>\n",
       "      <td>2.381749e-57</td>\n",
       "    </tr>\n",
       "    <tr>\n",
       "      <th>education_level_ 12th</th>\n",
       "      <td>-0.416168</td>\n",
       "      <td>6.595694e-01</td>\n",
       "      <td>8.287345e-18</td>\n",
       "    </tr>\n",
       "    <tr>\n",
       "      <th>education_level_ 1st-4th</th>\n",
       "      <td>-0.300569</td>\n",
       "      <td>7.403969e-01</td>\n",
       "      <td>1.133753e-09</td>\n",
       "    </tr>\n",
       "    <tr>\n",
       "      <th>education_level_ 5th-6th</th>\n",
       "      <td>-0.728248</td>\n",
       "      <td>4.827541e-01</td>\n",
       "      <td>1.800079e-19</td>\n",
       "    </tr>\n",
       "    <tr>\n",
       "      <th>education_level_ 7th-8th</th>\n",
       "      <td>-0.942615</td>\n",
       "      <td>3.896075e-01</td>\n",
       "      <td>2.493968e-28</td>\n",
       "    </tr>\n",
       "    <tr>\n",
       "      <th>education_level_ 9th</th>\n",
       "      <td>-0.773548</td>\n",
       "      <td>4.613732e-01</td>\n",
       "      <td>1.298077e-24</td>\n",
       "    </tr>\n",
       "    <tr>\n",
       "      <th>education_level_ Assoc-acdm</th>\n",
       "      <td>0.016647</td>\n",
       "      <td>1.016786e+00</td>\n",
       "      <td>1.771853e-01</td>\n",
       "    </tr>\n",
       "    <tr>\n",
       "      <th>education_level_ Assoc-voc</th>\n",
       "      <td>-0.004433</td>\n",
       "      <td>9.955767e-01</td>\n",
       "      <td>6.444684e-01</td>\n",
       "    </tr>\n",
       "    <tr>\n",
       "      <th>education_level_ Bachelors</th>\n",
       "      <td>0.417515</td>\n",
       "      <td>1.518184e+00</td>\n",
       "      <td>2.107132e-210</td>\n",
       "    </tr>\n",
       "    <tr>\n",
       "      <th>education_level_ Doctorate</th>\n",
       "      <td>1.070494</td>\n",
       "      <td>2.916821e+00</td>\n",
       "      <td>6.077122e-138</td>\n",
       "    </tr>\n",
       "    <tr>\n",
       "      <th>education_level_ HS-grad</th>\n",
       "      <td>-0.211725</td>\n",
       "      <td>8.091871e-01</td>\n",
       "      <td>9.528655e-107</td>\n",
       "    </tr>\n",
       "    <tr>\n",
       "      <th>education_level_ Masters</th>\n",
       "      <td>0.650361</td>\n",
       "      <td>1.916233e+00</td>\n",
       "      <td>7.663998e-221</td>\n",
       "    </tr>\n",
       "    <tr>\n",
       "      <th>education_level_ Preschool</th>\n",
       "      <td>-1.208934</td>\n",
       "      <td>2.985152e-01</td>\n",
       "      <td>1.037857e-05</td>\n",
       "    </tr>\n",
       "    <tr>\n",
       "      <th>education_level_ Prof-school</th>\n",
       "      <td>1.192186</td>\n",
       "      <td>3.294274e+00</td>\n",
       "      <td>3.536018e-198</td>\n",
       "    </tr>\n",
       "    <tr>\n",
       "      <th>education_level_ Some-college</th>\n",
       "      <td>0.042685</td>\n",
       "      <td>1.043609e+00</td>\n",
       "      <td>3.930588e-19</td>\n",
       "    </tr>\n",
       "    <tr>\n",
       "      <th>marital-status_ Divorced</th>\n",
       "      <td>-0.899028</td>\n",
       "      <td>4.069650e-01</td>\n",
       "      <td>1.536835e-123</td>\n",
       "    </tr>\n",
       "    <tr>\n",
       "      <th>marital-status_ Married-AF-spouse</th>\n",
       "      <td>0.727935</td>\n",
       "      <td>2.070801e+00</td>\n",
       "      <td>3.319995e-01</td>\n",
       "    </tr>\n",
       "    <tr>\n",
       "      <th>...</th>\n",
       "      <td>...</td>\n",
       "      <td>...</td>\n",
       "      <td>...</td>\n",
       "    </tr>\n",
       "    <tr>\n",
       "      <th>native-country_ Greece</th>\n",
       "      <td>0.010767</td>\n",
       "      <td>1.010825e+00</td>\n",
       "      <td>1.008599e-01</td>\n",
       "    </tr>\n",
       "    <tr>\n",
       "      <th>native-country_ Guatemala</th>\n",
       "      <td>-0.073029</td>\n",
       "      <td>9.295736e-01</td>\n",
       "      <td>8.435247e-05</td>\n",
       "    </tr>\n",
       "    <tr>\n",
       "      <th>native-country_ Haiti</th>\n",
       "      <td>-0.290301</td>\n",
       "      <td>7.480380e-01</td>\n",
       "      <td>2.231504e-03</td>\n",
       "    </tr>\n",
       "    <tr>\n",
       "      <th>native-country_ Holand-Netherlands</th>\n",
       "      <td>0.000000</td>\n",
       "      <td>1.000000e+00</td>\n",
       "      <td>NaN</td>\n",
       "    </tr>\n",
       "    <tr>\n",
       "      <th>native-country_ Honduras</th>\n",
       "      <td>0.156698</td>\n",
       "      <td>1.169643e+00</td>\n",
       "      <td>2.137710e-01</td>\n",
       "    </tr>\n",
       "    <tr>\n",
       "      <th>native-country_ Hong</th>\n",
       "      <td>-0.237141</td>\n",
       "      <td>7.888798e-01</td>\n",
       "      <td>9.804199e-01</td>\n",
       "    </tr>\n",
       "    <tr>\n",
       "      <th>native-country_ Hungary</th>\n",
       "      <td>0.516060</td>\n",
       "      <td>1.675414e+00</td>\n",
       "      <td>1.722699e-01</td>\n",
       "    </tr>\n",
       "    <tr>\n",
       "      <th>native-country_ India</th>\n",
       "      <td>-0.211696</td>\n",
       "      <td>8.092107e-01</td>\n",
       "      <td>1.675912e-04</td>\n",
       "    </tr>\n",
       "    <tr>\n",
       "      <th>native-country_ Iran</th>\n",
       "      <td>0.004909</td>\n",
       "      <td>1.004921e+00</td>\n",
       "      <td>2.421611e-02</td>\n",
       "    </tr>\n",
       "    <tr>\n",
       "      <th>native-country_ Ireland</th>\n",
       "      <td>0.160563</td>\n",
       "      <td>1.174171e+00</td>\n",
       "      <td>4.838743e-01</td>\n",
       "    </tr>\n",
       "    <tr>\n",
       "      <th>native-country_ Italy</th>\n",
       "      <td>0.777413</td>\n",
       "      <td>2.175837e+00</td>\n",
       "      <td>6.324598e-02</td>\n",
       "    </tr>\n",
       "    <tr>\n",
       "      <th>native-country_ Jamaica</th>\n",
       "      <td>0.299277</td>\n",
       "      <td>1.348883e+00</td>\n",
       "      <td>2.226936e-02</td>\n",
       "    </tr>\n",
       "    <tr>\n",
       "      <th>native-country_ Japan</th>\n",
       "      <td>-0.142442</td>\n",
       "      <td>8.672377e-01</td>\n",
       "      <td>1.482713e-01</td>\n",
       "    </tr>\n",
       "    <tr>\n",
       "      <th>native-country_ Laos</th>\n",
       "      <td>-0.855812</td>\n",
       "      <td>4.249381e-01</td>\n",
       "      <td>5.883202e-02</td>\n",
       "    </tr>\n",
       "    <tr>\n",
       "      <th>native-country_ Mexico</th>\n",
       "      <td>-0.646228</td>\n",
       "      <td>5.240186e-01</td>\n",
       "      <td>7.158309e-36</td>\n",
       "    </tr>\n",
       "    <tr>\n",
       "      <th>native-country_ Nicaragua</th>\n",
       "      <td>-0.440343</td>\n",
       "      <td>6.438155e-01</td>\n",
       "      <td>3.179051e-03</td>\n",
       "    </tr>\n",
       "    <tr>\n",
       "      <th>native-country_ Outlying-US(Guam-USVI-etc)</th>\n",
       "      <td>-0.065196</td>\n",
       "      <td>9.368843e-01</td>\n",
       "      <td>1.263196e-01</td>\n",
       "    </tr>\n",
       "    <tr>\n",
       "      <th>native-country_ Peru</th>\n",
       "      <td>-0.597191</td>\n",
       "      <td>5.503553e-01</td>\n",
       "      <td>1.589467e-02</td>\n",
       "    </tr>\n",
       "    <tr>\n",
       "      <th>native-country_ Philippines</th>\n",
       "      <td>0.151508</td>\n",
       "      <td>1.163587e+00</td>\n",
       "      <td>2.034416e-01</td>\n",
       "    </tr>\n",
       "    <tr>\n",
       "      <th>native-country_ Poland</th>\n",
       "      <td>0.226244</td>\n",
       "      <td>1.253882e+00</td>\n",
       "      <td>3.221401e-01</td>\n",
       "    </tr>\n",
       "    <tr>\n",
       "      <th>native-country_ Portugal</th>\n",
       "      <td>0.908992</td>\n",
       "      <td>2.481818e+00</td>\n",
       "      <td>5.261475e-01</td>\n",
       "    </tr>\n",
       "    <tr>\n",
       "      <th>native-country_ Puerto-Rico</th>\n",
       "      <td>-0.219417</td>\n",
       "      <td>8.029871e-01</td>\n",
       "      <td>6.806416e-05</td>\n",
       "    </tr>\n",
       "    <tr>\n",
       "      <th>native-country_ Scotland</th>\n",
       "      <td>-0.882309</td>\n",
       "      <td>4.138262e-01</td>\n",
       "      <td>8.596992e-02</td>\n",
       "    </tr>\n",
       "    <tr>\n",
       "      <th>native-country_ South</th>\n",
       "      <td>-0.995707</td>\n",
       "      <td>3.694622e-01</td>\n",
       "      <td>2.233639e-01</td>\n",
       "    </tr>\n",
       "    <tr>\n",
       "      <th>native-country_ Taiwan</th>\n",
       "      <td>-0.234901</td>\n",
       "      <td>7.906489e-01</td>\n",
       "      <td>1.044852e-03</td>\n",
       "    </tr>\n",
       "    <tr>\n",
       "      <th>native-country_ Thailand</th>\n",
       "      <td>-0.618764</td>\n",
       "      <td>5.386096e-01</td>\n",
       "      <td>3.108711e-01</td>\n",
       "    </tr>\n",
       "    <tr>\n",
       "      <th>native-country_ Trinadad&amp;Tobago</th>\n",
       "      <td>-1.068622</td>\n",
       "      <td>3.434814e-01</td>\n",
       "      <td>2.167128e-02</td>\n",
       "    </tr>\n",
       "    <tr>\n",
       "      <th>native-country_ United-States</th>\n",
       "      <td>0.329752</td>\n",
       "      <td>1.390624e+00</td>\n",
       "      <td>2.221822e-02</td>\n",
       "    </tr>\n",
       "    <tr>\n",
       "      <th>native-country_ Vietnam</th>\n",
       "      <td>-0.923120</td>\n",
       "      <td>3.972774e-01</td>\n",
       "      <td>1.954072e-03</td>\n",
       "    </tr>\n",
       "    <tr>\n",
       "      <th>native-country_ Yugoslavia</th>\n",
       "      <td>0.941573</td>\n",
       "      <td>2.564012e+00</td>\n",
       "      <td>1.150018e-01</td>\n",
       "    </tr>\n",
       "  </tbody>\n",
       "</table>\n",
       "<p>103 rows × 3 columns</p>\n",
       "</div>"
      ],
      "text/plain": [
       "                                                Coef_   Odds_Ratio_  \\\n",
       "age                                          1.810175  6.111515e+00   \n",
       "education-num                                1.747256  5.738834e+00   \n",
       "capital-gain                                18.541401  1.128309e+08   \n",
       "capital-loss                                 2.686286  1.467707e+01   \n",
       "hours-per-week                               2.806419  1.655055e+01   \n",
       "workclass_ Federal-gov                       0.192335  1.212076e+00   \n",
       "workclass_ Local-gov                        -0.444771  6.409710e-01   \n",
       "workclass_ Private                          -0.275017  7.595589e-01   \n",
       "workclass_ Self-emp-inc                     -0.172932  8.411944e-01   \n",
       "workclass_ Self-emp-not-inc                 -0.784475  4.563594e-01   \n",
       "workclass_ State-gov                        -0.556297  5.733281e-01   \n",
       "workclass_ Without-pay                      -0.654037  5.199423e-01   \n",
       "education_level_ 10th                       -0.752138  4.713575e-01   \n",
       "education_level_ 11th                       -0.746704  4.739262e-01   \n",
       "education_level_ 12th                       -0.416168  6.595694e-01   \n",
       "education_level_ 1st-4th                    -0.300569  7.403969e-01   \n",
       "education_level_ 5th-6th                    -0.728248  4.827541e-01   \n",
       "education_level_ 7th-8th                    -0.942615  3.896075e-01   \n",
       "education_level_ 9th                        -0.773548  4.613732e-01   \n",
       "education_level_ Assoc-acdm                  0.016647  1.016786e+00   \n",
       "education_level_ Assoc-voc                  -0.004433  9.955767e-01   \n",
       "education_level_ Bachelors                   0.417515  1.518184e+00   \n",
       "education_level_ Doctorate                   1.070494  2.916821e+00   \n",
       "education_level_ HS-grad                    -0.211725  8.091871e-01   \n",
       "education_level_ Masters                     0.650361  1.916233e+00   \n",
       "education_level_ Preschool                  -1.208934  2.985152e-01   \n",
       "education_level_ Prof-school                 1.192186  3.294274e+00   \n",
       "education_level_ Some-college                0.042685  1.043609e+00   \n",
       "marital-status_ Divorced                    -0.899028  4.069650e-01   \n",
       "marital-status_ Married-AF-spouse            0.727935  2.070801e+00   \n",
       "...                                               ...           ...   \n",
       "native-country_ Greece                       0.010767  1.010825e+00   \n",
       "native-country_ Guatemala                   -0.073029  9.295736e-01   \n",
       "native-country_ Haiti                       -0.290301  7.480380e-01   \n",
       "native-country_ Holand-Netherlands           0.000000  1.000000e+00   \n",
       "native-country_ Honduras                     0.156698  1.169643e+00   \n",
       "native-country_ Hong                        -0.237141  7.888798e-01   \n",
       "native-country_ Hungary                      0.516060  1.675414e+00   \n",
       "native-country_ India                       -0.211696  8.092107e-01   \n",
       "native-country_ Iran                         0.004909  1.004921e+00   \n",
       "native-country_ Ireland                      0.160563  1.174171e+00   \n",
       "native-country_ Italy                        0.777413  2.175837e+00   \n",
       "native-country_ Jamaica                      0.299277  1.348883e+00   \n",
       "native-country_ Japan                       -0.142442  8.672377e-01   \n",
       "native-country_ Laos                        -0.855812  4.249381e-01   \n",
       "native-country_ Mexico                      -0.646228  5.240186e-01   \n",
       "native-country_ Nicaragua                   -0.440343  6.438155e-01   \n",
       "native-country_ Outlying-US(Guam-USVI-etc)  -0.065196  9.368843e-01   \n",
       "native-country_ Peru                        -0.597191  5.503553e-01   \n",
       "native-country_ Philippines                  0.151508  1.163587e+00   \n",
       "native-country_ Poland                       0.226244  1.253882e+00   \n",
       "native-country_ Portugal                     0.908992  2.481818e+00   \n",
       "native-country_ Puerto-Rico                 -0.219417  8.029871e-01   \n",
       "native-country_ Scotland                    -0.882309  4.138262e-01   \n",
       "native-country_ South                       -0.995707  3.694622e-01   \n",
       "native-country_ Taiwan                      -0.234901  7.906489e-01   \n",
       "native-country_ Thailand                    -0.618764  5.386096e-01   \n",
       "native-country_ Trinadad&Tobago             -1.068622  3.434814e-01   \n",
       "native-country_ United-States                0.329752  1.390624e+00   \n",
       "native-country_ Vietnam                     -0.923120  3.972774e-01   \n",
       "native-country_ Yugoslavia                   0.941573  2.564012e+00   \n",
       "\n",
       "                                                 P_values  \n",
       "age                                          3.747991e-51  \n",
       "education-num                                1.786538e-44  \n",
       "capital-gain                                1.365860e-202  \n",
       "capital-loss                                 7.061181e-79  \n",
       "hours-per-week                               1.953968e-16  \n",
       "workclass_ Federal-gov                       3.730763e-28  \n",
       "workclass_ Local-gov                         4.278918e-07  \n",
       "workclass_ Private                           4.542286e-30  \n",
       "workclass_ Self-emp-inc                     8.067165e-139  \n",
       "workclass_ Self-emp-not-inc                  1.097577e-05  \n",
       "workclass_ State-gov                         1.473170e-02  \n",
       "workclass_ Without-pay                       3.629445e-01  \n",
       "education_level_ 10th                        4.396877e-41  \n",
       "education_level_ 11th                        2.381749e-57  \n",
       "education_level_ 12th                        8.287345e-18  \n",
       "education_level_ 1st-4th                     1.133753e-09  \n",
       "education_level_ 5th-6th                     1.800079e-19  \n",
       "education_level_ 7th-8th                     2.493968e-28  \n",
       "education_level_ 9th                         1.298077e-24  \n",
       "education_level_ Assoc-acdm                  1.771853e-01  \n",
       "education_level_ Assoc-voc                   6.444684e-01  \n",
       "education_level_ Bachelors                  2.107132e-210  \n",
       "education_level_ Doctorate                  6.077122e-138  \n",
       "education_level_ HS-grad                    9.528655e-107  \n",
       "education_level_ Masters                    7.663998e-221  \n",
       "education_level_ Preschool                   1.037857e-05  \n",
       "education_level_ Prof-school                3.536018e-198  \n",
       "education_level_ Some-college                3.930588e-19  \n",
       "marital-status_ Divorced                    1.536835e-123  \n",
       "marital-status_ Married-AF-spouse            3.319995e-01  \n",
       "...                                                   ...  \n",
       "native-country_ Greece                       1.008599e-01  \n",
       "native-country_ Guatemala                    8.435247e-05  \n",
       "native-country_ Haiti                        2.231504e-03  \n",
       "native-country_ Holand-Netherlands                    NaN  \n",
       "native-country_ Honduras                     2.137710e-01  \n",
       "native-country_ Hong                         9.804199e-01  \n",
       "native-country_ Hungary                      1.722699e-01  \n",
       "native-country_ India                        1.675912e-04  \n",
       "native-country_ Iran                         2.421611e-02  \n",
       "native-country_ Ireland                      4.838743e-01  \n",
       "native-country_ Italy                        6.324598e-02  \n",
       "native-country_ Jamaica                      2.226936e-02  \n",
       "native-country_ Japan                        1.482713e-01  \n",
       "native-country_ Laos                         5.883202e-02  \n",
       "native-country_ Mexico                       7.158309e-36  \n",
       "native-country_ Nicaragua                    3.179051e-03  \n",
       "native-country_ Outlying-US(Guam-USVI-etc)   1.263196e-01  \n",
       "native-country_ Peru                         1.589467e-02  \n",
       "native-country_ Philippines                  2.034416e-01  \n",
       "native-country_ Poland                       3.221401e-01  \n",
       "native-country_ Portugal                     5.261475e-01  \n",
       "native-country_ Puerto-Rico                  6.806416e-05  \n",
       "native-country_ Scotland                     8.596992e-02  \n",
       "native-country_ South                        2.233639e-01  \n",
       "native-country_ Taiwan                       1.044852e-03  \n",
       "native-country_ Thailand                     3.108711e-01  \n",
       "native-country_ Trinadad&Tobago              2.167128e-02  \n",
       "native-country_ United-States                2.221822e-02  \n",
       "native-country_ Vietnam                      1.954072e-03  \n",
       "native-country_ Yugoslavia                   1.150018e-01  \n",
       "\n",
       "[103 rows x 3 columns]"
      ]
     },
     "execution_count": 91,
     "metadata": {},
     "output_type": "execute_result"
    }
   ],
   "source": [
    "# Feature importance based on LogisticRegression (odd_ratio)\n",
    "\n",
    "from sklearn.feature_selection import chi2\n",
    "from sklearn.linear_model import LogisticRegression\n",
    "\n",
    "clf = LogisticRegression().fit(X_train, y_train)\n",
    "\n",
    "scores, pvalues = chi2(X_train, y_train)\n",
    "\n",
    "coef = pd.DataFrame(zip(clf.coef_.T, np.exp(clf.coef_).T))\n",
    "coef.columns = ['Coef_','Odds_Ratio_']\n",
    "coef['P_values'] = pvalues\n",
    "coef.index = X_train.columns\n",
    "\n",
    "coef.Coef_ = coef.Coef_.astype(np.float64)\n",
    "coef.Odds_Ratio_ = coef.Odds_Ratio_.astype(np.float64)\n",
    "\n",
    "coef"
   ]
  },
  {
   "cell_type": "markdown",
   "metadata": {},
   "source": [
    "The coefficient calculated above indicate the importance ranking as following:\n",
    "\n",
    "[1] capital-gain\n",
    "\n",
    "[2] hours-per-week\n",
    "\n",
    "[3] capital-loss \n",
    "\n",
    "[4] age \n",
    "\n",
    "[5] education-num\n",
    "\n",
    "Four features are selected in both RandomForestClassifier and LogisticRegression(Odd_ratio), although they have different ranking in each model: capital-gain, hours-per-week, age, education-num; So, this further confirms that our feature selection is reliable to some extent."
   ]
  },
  {
   "cell_type": "markdown",
   "metadata": {},
   "source": [
    "### Feature Selection\n",
    "How does a model perform if we only use a subset of all the available features in the data? With less features required to train, the expectation is that training and prediction time is much lower — at the cost of performance metrics. From the visualization above, we see that the top five most important features contribute more than half of the importance of **all** features present in the data. This hints that we can attempt to *reduce the feature space* and simplify the information required for the model to learn. The code cell below will use the same optimized model you found earlier, and train it on the same training set *with only the top five important features*. "
   ]
  },
  {
   "cell_type": "code",
   "execution_count": 52,
   "metadata": {
    "collapsed": false
   },
   "outputs": [
    {
     "name": "stdout",
     "output_type": "stream",
     "text": [
      "Final Model trained on full data\n",
      "------\n",
      "Accuracy on testing data: 0.8500\n",
      "F-score on testing data: 0.7024\n",
      "\n",
      "Final Model trained on reduced data\n",
      "------\n",
      "Accuracy on testing data: 0.8287\n",
      "F-score on testing data: 0.6550\n"
     ]
    }
   ],
   "source": [
    "# Import functionality for cloning a model\n",
    "from sklearn.base import clone\n",
    "\n",
    "# Reduce the feature space\n",
    "X_train_reduced = X_train[X_train.columns.values[(np.argsort(importances)[::-1])[:5]]]\n",
    "X_test_reduced = X_test[X_test.columns.values[(np.argsort(importances)[::-1])[:5]]]\n",
    "\n",
    "# Train on the \"best\" model found from grid search earlier\n",
    "clf = (clone(best_clf)).fit(X_train_reduced, y_train)\n",
    "\n",
    "# Make new predictions\n",
    "reduced_predictions = clf.predict(X_test_reduced)\n",
    "\n",
    "# Report scores from the final model using both versions of data\n",
    "print \"Final Model trained on full data\\n------\"\n",
    "print \"Accuracy on testing data: {:.4f}\".format(accuracy_score(y_test, best_predictions))\n",
    "print \"F-score on testing data: {:.4f}\".format(fbeta_score(y_test, best_predictions, beta = 0.5))\n",
    "print \"\\nFinal Model trained on reduced data\\n------\"\n",
    "print \"Accuracy on testing data: {:.4f}\".format(accuracy_score(y_test, reduced_predictions))\n",
    "print \"F-score on testing data: {:.4f}\".format(fbeta_score(y_test, reduced_predictions, beta = 0.5))"
   ]
  },
  {
   "cell_type": "markdown",
   "metadata": {},
   "source": [
    "### Question 8 - Effects of Feature Selection\n",
    "*How does the final model's F-score and accuracy score on the reduced data using only five features compare to those same scores when all features are used?*  \n",
    "*If training time was a factor, would you consider using the reduced data as your training set?*"
   ]
  },
  {
   "cell_type": "markdown",
   "metadata": {},
   "source": [
    "**Answer:**\n",
    "\n",
    "Both accuracy and F-score reduced after we only select five main feature predicted by RandomForest(), which mean some of dropped features also contribute positively. However, the decrease is still acceptable. I would prefer reduced data as training set when the data point is extremely large (should be at least 1000 times larger than this dataset)."
   ]
  },
  {
   "cell_type": "markdown",
   "metadata": {},
   "source": [
    "> **Note**: Once you have completed all of the code implementations and successfully answered each question above, you may finalize your work by exporting the iPython Notebook as an HTML document. You can do this by using the menu above and navigating to  \n",
    "**File -> Download as -> HTML (.html)**. Include the finished document along with this notebook as your submission."
   ]
  }
 ],
 "metadata": {
  "kernelspec": {
   "display_name": "Python 2",
   "language": "python",
   "name": "python2"
  },
  "language_info": {
   "codemirror_mode": {
    "name": "ipython",
    "version": 2
   },
   "file_extension": ".py",
   "mimetype": "text/x-python",
   "name": "python",
   "nbconvert_exporter": "python",
   "pygments_lexer": "ipython2",
   "version": "2.7.13"
  }
 },
 "nbformat": 4,
 "nbformat_minor": 0
}
